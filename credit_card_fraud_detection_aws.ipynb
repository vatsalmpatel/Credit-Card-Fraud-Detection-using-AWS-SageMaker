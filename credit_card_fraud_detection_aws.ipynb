{
 "cells": [
  {
   "cell_type": "code",
   "execution_count": 13,
   "id": "55d1fe89-2494-43aa-bf3a-41474dc63525",
   "metadata": {
    "tags": []
   },
   "outputs": [
    {
     "name": "stdout",
     "output_type": "stream",
     "text": [
      "Archive:  archive.zip\n",
      "  inflating: creditcard.csv          \n"
     ]
    }
   ],
   "source": [
    "!unzip archive.zip"
   ]
  },
  {
   "cell_type": "code",
   "execution_count": 14,
   "id": "8c46814d-8026-447f-892a-8084ca98fd40",
   "metadata": {
    "tags": []
   },
   "outputs": [],
   "source": [
    "import numpy as np\n",
    "import pandas as pd\n",
    "\n",
    "data = pd.read_csv('creditcard.csv',delimiter = ',')"
   ]
  },
  {
   "cell_type": "code",
   "execution_count": 15,
   "id": "7e693a84-f86f-48cb-b283-64d0a3f3651e",
   "metadata": {
    "tags": []
   },
   "outputs": [
    {
     "data": {
      "text/html": [
       "<div>\n",
       "<style scoped>\n",
       "    .dataframe tbody tr th:only-of-type {\n",
       "        vertical-align: middle;\n",
       "    }\n",
       "\n",
       "    .dataframe tbody tr th {\n",
       "        vertical-align: top;\n",
       "    }\n",
       "\n",
       "    .dataframe thead th {\n",
       "        text-align: right;\n",
       "    }\n",
       "</style>\n",
       "<table border=\"1\" class=\"dataframe\">\n",
       "  <thead>\n",
       "    <tr style=\"text-align: right;\">\n",
       "      <th></th>\n",
       "      <th>Time</th>\n",
       "      <th>V1</th>\n",
       "      <th>V2</th>\n",
       "      <th>V3</th>\n",
       "      <th>V4</th>\n",
       "      <th>V5</th>\n",
       "      <th>V6</th>\n",
       "      <th>V7</th>\n",
       "      <th>V8</th>\n",
       "      <th>V9</th>\n",
       "      <th>...</th>\n",
       "      <th>V21</th>\n",
       "      <th>V22</th>\n",
       "      <th>V23</th>\n",
       "      <th>V24</th>\n",
       "      <th>V25</th>\n",
       "      <th>V26</th>\n",
       "      <th>V27</th>\n",
       "      <th>V28</th>\n",
       "      <th>Amount</th>\n",
       "      <th>Class</th>\n",
       "    </tr>\n",
       "  </thead>\n",
       "  <tbody>\n",
       "    <tr>\n",
       "      <th>0</th>\n",
       "      <td>0.0</td>\n",
       "      <td>-1.359807</td>\n",
       "      <td>-0.072781</td>\n",
       "      <td>2.536347</td>\n",
       "      <td>1.378155</td>\n",
       "      <td>-0.338321</td>\n",
       "      <td>0.462388</td>\n",
       "      <td>0.239599</td>\n",
       "      <td>0.098698</td>\n",
       "      <td>0.363787</td>\n",
       "      <td>...</td>\n",
       "      <td>-0.018307</td>\n",
       "      <td>0.277838</td>\n",
       "      <td>-0.110474</td>\n",
       "      <td>0.066928</td>\n",
       "      <td>0.128539</td>\n",
       "      <td>-0.189115</td>\n",
       "      <td>0.133558</td>\n",
       "      <td>-0.021053</td>\n",
       "      <td>149.62</td>\n",
       "      <td>0</td>\n",
       "    </tr>\n",
       "    <tr>\n",
       "      <th>1</th>\n",
       "      <td>0.0</td>\n",
       "      <td>1.191857</td>\n",
       "      <td>0.266151</td>\n",
       "      <td>0.166480</td>\n",
       "      <td>0.448154</td>\n",
       "      <td>0.060018</td>\n",
       "      <td>-0.082361</td>\n",
       "      <td>-0.078803</td>\n",
       "      <td>0.085102</td>\n",
       "      <td>-0.255425</td>\n",
       "      <td>...</td>\n",
       "      <td>-0.225775</td>\n",
       "      <td>-0.638672</td>\n",
       "      <td>0.101288</td>\n",
       "      <td>-0.339846</td>\n",
       "      <td>0.167170</td>\n",
       "      <td>0.125895</td>\n",
       "      <td>-0.008983</td>\n",
       "      <td>0.014724</td>\n",
       "      <td>2.69</td>\n",
       "      <td>0</td>\n",
       "    </tr>\n",
       "    <tr>\n",
       "      <th>2</th>\n",
       "      <td>1.0</td>\n",
       "      <td>-1.358354</td>\n",
       "      <td>-1.340163</td>\n",
       "      <td>1.773209</td>\n",
       "      <td>0.379780</td>\n",
       "      <td>-0.503198</td>\n",
       "      <td>1.800499</td>\n",
       "      <td>0.791461</td>\n",
       "      <td>0.247676</td>\n",
       "      <td>-1.514654</td>\n",
       "      <td>...</td>\n",
       "      <td>0.247998</td>\n",
       "      <td>0.771679</td>\n",
       "      <td>0.909412</td>\n",
       "      <td>-0.689281</td>\n",
       "      <td>-0.327642</td>\n",
       "      <td>-0.139097</td>\n",
       "      <td>-0.055353</td>\n",
       "      <td>-0.059752</td>\n",
       "      <td>378.66</td>\n",
       "      <td>0</td>\n",
       "    </tr>\n",
       "    <tr>\n",
       "      <th>3</th>\n",
       "      <td>1.0</td>\n",
       "      <td>-0.966272</td>\n",
       "      <td>-0.185226</td>\n",
       "      <td>1.792993</td>\n",
       "      <td>-0.863291</td>\n",
       "      <td>-0.010309</td>\n",
       "      <td>1.247203</td>\n",
       "      <td>0.237609</td>\n",
       "      <td>0.377436</td>\n",
       "      <td>-1.387024</td>\n",
       "      <td>...</td>\n",
       "      <td>-0.108300</td>\n",
       "      <td>0.005274</td>\n",
       "      <td>-0.190321</td>\n",
       "      <td>-1.175575</td>\n",
       "      <td>0.647376</td>\n",
       "      <td>-0.221929</td>\n",
       "      <td>0.062723</td>\n",
       "      <td>0.061458</td>\n",
       "      <td>123.50</td>\n",
       "      <td>0</td>\n",
       "    </tr>\n",
       "    <tr>\n",
       "      <th>4</th>\n",
       "      <td>2.0</td>\n",
       "      <td>-1.158233</td>\n",
       "      <td>0.877737</td>\n",
       "      <td>1.548718</td>\n",
       "      <td>0.403034</td>\n",
       "      <td>-0.407193</td>\n",
       "      <td>0.095921</td>\n",
       "      <td>0.592941</td>\n",
       "      <td>-0.270533</td>\n",
       "      <td>0.817739</td>\n",
       "      <td>...</td>\n",
       "      <td>-0.009431</td>\n",
       "      <td>0.798278</td>\n",
       "      <td>-0.137458</td>\n",
       "      <td>0.141267</td>\n",
       "      <td>-0.206010</td>\n",
       "      <td>0.502292</td>\n",
       "      <td>0.219422</td>\n",
       "      <td>0.215153</td>\n",
       "      <td>69.99</td>\n",
       "      <td>0</td>\n",
       "    </tr>\n",
       "  </tbody>\n",
       "</table>\n",
       "<p>5 rows × 31 columns</p>\n",
       "</div>"
      ],
      "text/plain": [
       "   Time        V1        V2        V3        V4        V5        V6        V7  \\\n",
       "0   0.0 -1.359807 -0.072781  2.536347  1.378155 -0.338321  0.462388  0.239599   \n",
       "1   0.0  1.191857  0.266151  0.166480  0.448154  0.060018 -0.082361 -0.078803   \n",
       "2   1.0 -1.358354 -1.340163  1.773209  0.379780 -0.503198  1.800499  0.791461   \n",
       "3   1.0 -0.966272 -0.185226  1.792993 -0.863291 -0.010309  1.247203  0.237609   \n",
       "4   2.0 -1.158233  0.877737  1.548718  0.403034 -0.407193  0.095921  0.592941   \n",
       "\n",
       "         V8        V9  ...       V21       V22       V23       V24       V25  \\\n",
       "0  0.098698  0.363787  ... -0.018307  0.277838 -0.110474  0.066928  0.128539   \n",
       "1  0.085102 -0.255425  ... -0.225775 -0.638672  0.101288 -0.339846  0.167170   \n",
       "2  0.247676 -1.514654  ...  0.247998  0.771679  0.909412 -0.689281 -0.327642   \n",
       "3  0.377436 -1.387024  ... -0.108300  0.005274 -0.190321 -1.175575  0.647376   \n",
       "4 -0.270533  0.817739  ... -0.009431  0.798278 -0.137458  0.141267 -0.206010   \n",
       "\n",
       "        V26       V27       V28  Amount  Class  \n",
       "0 -0.189115  0.133558 -0.021053  149.62      0  \n",
       "1  0.125895 -0.008983  0.014724    2.69      0  \n",
       "2 -0.139097 -0.055353 -0.059752  378.66      0  \n",
       "3 -0.221929  0.062723  0.061458  123.50      0  \n",
       "4  0.502292  0.219422  0.215153   69.99      0  \n",
       "\n",
       "[5 rows x 31 columns]"
      ]
     },
     "execution_count": 15,
     "metadata": {},
     "output_type": "execute_result"
    }
   ],
   "source": [
    "data.head()"
   ]
  },
  {
   "cell_type": "code",
   "execution_count": 16,
   "id": "46f3b387-c6f5-4e42-b41e-be0a8512e407",
   "metadata": {
    "tags": []
   },
   "outputs": [
    {
     "name": "stdout",
     "output_type": "stream",
     "text": [
      "Index(['Time', 'V1', 'V2', 'V3', 'V4', 'V5', 'V6', 'V7', 'V8', 'V9', 'V10',\n",
      "       'V11', 'V12', 'V13', 'V14', 'V15', 'V16', 'V17', 'V18', 'V19', 'V20',\n",
      "       'V21', 'V22', 'V23', 'V24', 'V25', 'V26', 'V27', 'V28', 'Amount',\n",
      "       'Class'],\n",
      "      dtype='object')\n"
     ]
    }
   ],
   "source": [
    "print(data.columns)"
   ]
  },
  {
   "cell_type": "code",
   "execution_count": 18,
   "id": "e8f77443-b39d-44fe-98dc-2215b42a58d3",
   "metadata": {
    "tags": []
   },
   "outputs": [
    {
     "data": {
      "text/html": [
       "<div>\n",
       "<style scoped>\n",
       "    .dataframe tbody tr th:only-of-type {\n",
       "        vertical-align: middle;\n",
       "    }\n",
       "\n",
       "    .dataframe tbody tr th {\n",
       "        vertical-align: top;\n",
       "    }\n",
       "\n",
       "    .dataframe thead th {\n",
       "        text-align: right;\n",
       "    }\n",
       "</style>\n",
       "<table border=\"1\" class=\"dataframe\">\n",
       "  <thead>\n",
       "    <tr style=\"text-align: right;\">\n",
       "      <th></th>\n",
       "      <th>Time</th>\n",
       "      <th>V1</th>\n",
       "      <th>V2</th>\n",
       "      <th>V27</th>\n",
       "      <th>V28</th>\n",
       "      <th>Amount</th>\n",
       "      <th>Class</th>\n",
       "    </tr>\n",
       "  </thead>\n",
       "  <tbody>\n",
       "    <tr>\n",
       "      <th>count</th>\n",
       "      <td>284807.000000</td>\n",
       "      <td>2.848070e+05</td>\n",
       "      <td>2.848070e+05</td>\n",
       "      <td>2.848070e+05</td>\n",
       "      <td>2.848070e+05</td>\n",
       "      <td>284807.000000</td>\n",
       "      <td>284807.000000</td>\n",
       "    </tr>\n",
       "    <tr>\n",
       "      <th>mean</th>\n",
       "      <td>94813.859575</td>\n",
       "      <td>1.165980e-15</td>\n",
       "      <td>3.416908e-16</td>\n",
       "      <td>-3.666453e-16</td>\n",
       "      <td>-1.220404e-16</td>\n",
       "      <td>88.349619</td>\n",
       "      <td>0.001727</td>\n",
       "    </tr>\n",
       "    <tr>\n",
       "      <th>std</th>\n",
       "      <td>47488.145955</td>\n",
       "      <td>1.958696e+00</td>\n",
       "      <td>1.651309e+00</td>\n",
       "      <td>4.036325e-01</td>\n",
       "      <td>3.300833e-01</td>\n",
       "      <td>250.120109</td>\n",
       "      <td>0.041527</td>\n",
       "    </tr>\n",
       "    <tr>\n",
       "      <th>min</th>\n",
       "      <td>0.000000</td>\n",
       "      <td>-5.640751e+01</td>\n",
       "      <td>-7.271573e+01</td>\n",
       "      <td>-2.256568e+01</td>\n",
       "      <td>-1.543008e+01</td>\n",
       "      <td>0.000000</td>\n",
       "      <td>0.000000</td>\n",
       "    </tr>\n",
       "    <tr>\n",
       "      <th>25%</th>\n",
       "      <td>54201.500000</td>\n",
       "      <td>-9.203734e-01</td>\n",
       "      <td>-5.985499e-01</td>\n",
       "      <td>-7.083953e-02</td>\n",
       "      <td>-5.295979e-02</td>\n",
       "      <td>5.600000</td>\n",
       "      <td>0.000000</td>\n",
       "    </tr>\n",
       "    <tr>\n",
       "      <th>50%</th>\n",
       "      <td>84692.000000</td>\n",
       "      <td>1.810880e-02</td>\n",
       "      <td>6.548556e-02</td>\n",
       "      <td>1.342146e-03</td>\n",
       "      <td>1.124383e-02</td>\n",
       "      <td>22.000000</td>\n",
       "      <td>0.000000</td>\n",
       "    </tr>\n",
       "    <tr>\n",
       "      <th>75%</th>\n",
       "      <td>139320.500000</td>\n",
       "      <td>1.315642e+00</td>\n",
       "      <td>8.037239e-01</td>\n",
       "      <td>9.104512e-02</td>\n",
       "      <td>7.827995e-02</td>\n",
       "      <td>77.165000</td>\n",
       "      <td>0.000000</td>\n",
       "    </tr>\n",
       "    <tr>\n",
       "      <th>max</th>\n",
       "      <td>172792.000000</td>\n",
       "      <td>2.454930e+00</td>\n",
       "      <td>2.205773e+01</td>\n",
       "      <td>3.161220e+01</td>\n",
       "      <td>3.384781e+01</td>\n",
       "      <td>25691.160000</td>\n",
       "      <td>1.000000</td>\n",
       "    </tr>\n",
       "  </tbody>\n",
       "</table>\n",
       "</div>"
      ],
      "text/plain": [
       "                Time            V1            V2           V27           V28  \\\n",
       "count  284807.000000  2.848070e+05  2.848070e+05  2.848070e+05  2.848070e+05   \n",
       "mean    94813.859575  1.165980e-15  3.416908e-16 -3.666453e-16 -1.220404e-16   \n",
       "std     47488.145955  1.958696e+00  1.651309e+00  4.036325e-01  3.300833e-01   \n",
       "min         0.000000 -5.640751e+01 -7.271573e+01 -2.256568e+01 -1.543008e+01   \n",
       "25%     54201.500000 -9.203734e-01 -5.985499e-01 -7.083953e-02 -5.295979e-02   \n",
       "50%     84692.000000  1.810880e-02  6.548556e-02  1.342146e-03  1.124383e-02   \n",
       "75%    139320.500000  1.315642e+00  8.037239e-01  9.104512e-02  7.827995e-02   \n",
       "max    172792.000000  2.454930e+00  2.205773e+01  3.161220e+01  3.384781e+01   \n",
       "\n",
       "              Amount          Class  \n",
       "count  284807.000000  284807.000000  \n",
       "mean       88.349619       0.001727  \n",
       "std       250.120109       0.041527  \n",
       "min         0.000000       0.000000  \n",
       "25%         5.600000       0.000000  \n",
       "50%        22.000000       0.000000  \n",
       "75%        77.165000       0.000000  \n",
       "max     25691.160000       1.000000  "
      ]
     },
     "execution_count": 18,
     "metadata": {},
     "output_type": "execute_result"
    }
   ],
   "source": [
    "data[['Time','V1','V2','V27','V28','Amount','Class']].describe()"
   ]
  },
  {
   "cell_type": "code",
   "execution_count": 19,
   "id": "330392d8-4917-421e-b2a8-5f613bc3869c",
   "metadata": {
    "tags": []
   },
   "outputs": [],
   "source": [
    "non_frauds, frauds = data.groupby(\"Class\").size()"
   ]
  },
  {
   "cell_type": "code",
   "execution_count": 20,
   "id": "5d35352c-be9f-4035-8bab-e0204dbcde2e",
   "metadata": {
    "tags": []
   },
   "outputs": [
    {
     "data": {
      "text/plain": [
       "284315"
      ]
     },
     "execution_count": 20,
     "metadata": {},
     "output_type": "execute_result"
    }
   ],
   "source": [
    "non_frauds"
   ]
  },
  {
   "cell_type": "code",
   "execution_count": 21,
   "id": "afb04f2e-a7e1-4ef4-9dda-78f719961cba",
   "metadata": {
    "tags": []
   },
   "outputs": [
    {
     "data": {
      "text/plain": [
       "492"
      ]
     },
     "execution_count": 21,
     "metadata": {},
     "output_type": "execute_result"
    }
   ],
   "source": [
    "frauds"
   ]
  },
  {
   "cell_type": "code",
   "execution_count": 22,
   "id": "6d045c31-e4c8-4f9f-86d3-06818ad4f044",
   "metadata": {
    "tags": []
   },
   "outputs": [
    {
     "data": {
      "text/plain": [
       "0.1727485630620034"
      ]
     },
     "execution_count": 22,
     "metadata": {},
     "output_type": "execute_result"
    }
   ],
   "source": [
    "frauds / (non_frauds + frauds) * 100"
   ]
  },
  {
   "cell_type": "code",
   "execution_count": 24,
   "id": "01fe64bc-cfdb-421b-b084-0459f0c8aa2b",
   "metadata": {
    "tags": []
   },
   "outputs": [
    {
     "data": {
      "text/plain": [
       "99.82725143693798"
      ]
     },
     "execution_count": 24,
     "metadata": {},
     "output_type": "execute_result"
    }
   ],
   "source": [
    "non_frauds / (frauds + non_frauds) * 100"
   ]
  },
  {
   "cell_type": "code",
   "execution_count": 32,
   "id": "ed756e5b-4efb-4c60-9248-45b6e16f8c7f",
   "metadata": {
    "tags": []
   },
   "outputs": [],
   "source": [
    "feature_columns = data.columns[:-1]\n",
    "label_column = data.columns[-1]\n",
    "\n",
    "features = data[feature_columns].values.astype('float32')\n",
    "labels = (data[label_column].values).astype('float32')"
   ]
  },
  {
   "cell_type": "code",
   "execution_count": 33,
   "id": "1e39e8dc-2833-4ea4-8f28-8ffe04c71b1e",
   "metadata": {
    "tags": []
   },
   "outputs": [
    {
     "data": {
      "text/plain": [
       "(284807, 30)"
      ]
     },
     "execution_count": 33,
     "metadata": {},
     "output_type": "execute_result"
    }
   ],
   "source": [
    "features.shape"
   ]
  },
  {
   "cell_type": "code",
   "execution_count": 34,
   "id": "f237170b-e253-4b01-b13b-61b2bcc07cef",
   "metadata": {
    "tags": []
   },
   "outputs": [
    {
     "data": {
      "text/plain": [
       "(284807,)"
      ]
     },
     "execution_count": 34,
     "metadata": {},
     "output_type": "execute_result"
    }
   ],
   "source": [
    "labels.shape"
   ]
  },
  {
   "cell_type": "code",
   "execution_count": 35,
   "id": "319ca011-3d01-4be0-aafa-3f746b25cbc7",
   "metadata": {
    "tags": []
   },
   "outputs": [],
   "source": [
    "from sklearn.model_selection import train_test_split"
   ]
  },
  {
   "cell_type": "code",
   "execution_count": 36,
   "id": "67c00e22-34a6-4153-9693-d2badfb61e04",
   "metadata": {
    "tags": []
   },
   "outputs": [],
   "source": [
    "x_train, x_test, y_train, y_test = train_test_split(features,labels,test_size = 0.1,random_state = 42)"
   ]
  },
  {
   "cell_type": "code",
   "execution_count": 38,
   "id": "7c864a89-09ba-47cf-8189-d0d7363a05fc",
   "metadata": {
    "tags": []
   },
   "outputs": [
    {
     "data": {
      "text/plain": [
       "((256326, 30), (28481, 30), (256326,), (28481,))"
      ]
     },
     "execution_count": 38,
     "metadata": {},
     "output_type": "execute_result"
    }
   ],
   "source": [
    "x_train.shape,x_test.shape, y_train.shape,y_test.shape"
   ]
  },
  {
   "cell_type": "code",
   "execution_count": 39,
   "id": "e4f6b839-7193-4a34-89ca-e892101cc4f7",
   "metadata": {
    "tags": []
   },
   "outputs": [],
   "source": [
    "from sagemaker import RandomCutForest"
   ]
  },
  {
   "cell_type": "code",
   "execution_count": 43,
   "id": "bf848047-bf41-4cca-a9ee-c74ba65cd8b4",
   "metadata": {
    "tags": []
   },
   "outputs": [],
   "source": [
    "instance_type = 'ml.m5.large'\n",
    "rcf = RandomCutForest(role = 'arn:aws:iam::544433795559:role/service-role/AmazonSageMaker-ExecutionRole-20230426T180700',\n",
    "                      train_instance_type = instance_type,\n",
    "                     train_instance_count = 1,\n",
    "                     num_samples_per_tree = 512,\n",
    "                     num_trees = 50)"
   ]
  },
  {
   "cell_type": "code",
   "execution_count": 44,
   "id": "a75e205e-a380-4ce3-8699-65d44258784b",
   "metadata": {
    "tags": []
   },
   "outputs": [
    {
     "data": {
      "text/plain": [
       "<sagemaker.amazon.randomcutforest.RandomCutForest at 0x7f42531075f8>"
      ]
     },
     "execution_count": 44,
     "metadata": {},
     "output_type": "execute_result"
    }
   ],
   "source": [
    "rcf"
   ]
  },
  {
   "cell_type": "code",
   "execution_count": 45,
   "id": "8f23d57e-e8c2-402c-a4cd-f410eb63cf56",
   "metadata": {
    "tags": []
   },
   "outputs": [
    {
     "name": "stderr",
     "output_type": "stream",
     "text": [
      "WARNING:sagemaker.amazon.amazon_estimator:'get_image_uri' method will be deprecated in favor of 'ImageURIProvider' class in SageMaker Python SDK v2.\n",
      "WARNING:sagemaker:'s3_input' class will be renamed to 'TrainingInput' in SageMaker Python SDK v2.\n",
      "WARNING:sagemaker.amazon.amazon_estimator:'get_image_uri' method will be deprecated in favor of 'ImageURIProvider' class in SageMaker Python SDK v2.\n"
     ]
    },
    {
     "name": "stdout",
     "output_type": "stream",
     "text": [
      "2023-04-26 22:47:16 Starting - Starting the training job...\n",
      "2023-04-26 22:47:32 Starting - Preparing the instances for training......\n",
      "2023-04-26 22:48:17 Downloading - Downloading input data...\n",
      "2023-04-26 22:48:47 Training - Downloading the training image.........\n",
      "2023-04-26 22:50:48 Training - Training image download completed. Training in progress..\u001b[34mDocker entrypoint called with argument(s): train\u001b[0m\n",
      "\u001b[34mRunning default environment configuration script\u001b[0m\n",
      "\u001b[34m[04/26/2023 22:50:54 INFO 139652646061888] Reading default configuration from /opt/amazon/lib/python3.7/site-packages/algorithm/resources/default-conf.json: {'num_samples_per_tree': 256, 'num_trees': 100, 'force_dense': 'true', 'eval_metrics': ['accuracy', 'precision_recall_fscore'], 'epochs': 1, 'mini_batch_size': 1000, '_log_level': 'info', '_kvstore': 'dist_async', '_num_kv_servers': 'auto', '_num_gpus': 'auto', '_tuning_objective_metric': '', '_ftp_port': 8999}\u001b[0m\n",
      "\u001b[34m[04/26/2023 22:50:54 INFO 139652646061888] Merging with provided configuration from /opt/ml/input/config/hyperparameters.json: {'feature_dim': '30', 'mini_batch_size': '1000', 'num_samples_per_tree': '512', 'num_trees': '50'}\u001b[0m\n",
      "\u001b[34m[04/26/2023 22:50:54 INFO 139652646061888] Final configuration: {'num_samples_per_tree': '512', 'num_trees': '50', 'force_dense': 'true', 'eval_metrics': ['accuracy', 'precision_recall_fscore'], 'epochs': 1, 'mini_batch_size': '1000', '_log_level': 'info', '_kvstore': 'dist_async', '_num_kv_servers': 'auto', '_num_gpus': 'auto', '_tuning_objective_metric': '', '_ftp_port': 8999, 'feature_dim': '30'}\u001b[0m\n",
      "\u001b[34m[04/26/2023 22:50:54 WARNING 139652646061888] Loggers have already been setup.\u001b[0m\n",
      "\u001b[34m[04/26/2023 22:50:54 INFO 139652646061888] Launching parameter server for role scheduler\u001b[0m\n",
      "\u001b[34m[04/26/2023 22:50:54 INFO 139652646061888] {'ENVROOT': '/opt/amazon', 'PROTOCOL_BUFFERS_PYTHON_IMPLEMENTATION': 'cpp', 'HOSTNAME': 'ip-10-2-234-25.ec2.internal', 'TRAINING_JOB_NAME': 'randomcutforest-2023-04-26-22-47-16-504', 'NVIDIA_REQUIRE_CUDA': 'cuda>=9.0', 'TRAINING_JOB_ARN': 'arn:aws:sagemaker:us-east-1:544433795559:training-job/randomcutforest-2023-04-26-22-47-16-504', 'AWS_CONTAINER_CREDENTIALS_RELATIVE_URI': '/v2/credentials/proxy-22325db002601886fad08fe51698e8769d13d32c63e7a317d91004940c746e64-customer', 'CANONICAL_ENVROOT': '/opt/amazon', 'PYTHONUNBUFFERED': 'TRUE', 'NVIDIA_VISIBLE_DEVICES': 'all', 'LD_LIBRARY_PATH': '/opt/amazon/lib/python3.7/site-packages/cv2/../../../../lib:/usr/local/nvidia/lib64:/opt/amazon/lib', 'MXNET_KVSTORE_BIGARRAY_BOUND': '400000000', 'NVIDIA_DRIVER_CAPABILITIES': 'compute,utility', 'SAGEMAKER_MANAGED_WARMPOOL_CACHE_DIRECTORY': '/opt/ml/sagemaker/warmpoolcache', 'PATH': '/opt/amazon/bin:/usr/local/nvidia/bin:/usr/local/sbin:/usr/local/bin:/usr/sbin:/usr/bin:/sbin:/bin', 'PWD': '/', 'LANG': 'en_US.utf8', 'AWS_REGION': 'us-east-1', 'SAGEMAKER_METRICS_DIRECTORY': '/opt/ml/output/metrics/sagemaker', 'CUDA_VERSION': '11.1', 'HOME': '/root', 'SHLVL': '1', 'CUDA_COMPAT_NDRIVER_SUPPORTED_VERSION': '455.32.00', 'PROTOCOL_BUFFERS_PYTHON_IMPLEMENTATION_VERSION': '2', 'OMP_NUM_THREADS': '1', 'DMLC_INTERFACE': 'eth0', 'SAGEMAKER_HTTP_PORT': '8080', 'SAGEMAKER_DATA_PATH': '/opt/ml', 'KMP_DUPLICATE_LIB_OK': 'True', 'KMP_INIT_AT_FORK': 'FALSE'}\u001b[0m\n",
      "\u001b[34m[04/26/2023 22:50:54 INFO 139652646061888] envs={'ENVROOT': '/opt/amazon', 'PROTOCOL_BUFFERS_PYTHON_IMPLEMENTATION': 'cpp', 'HOSTNAME': 'ip-10-2-234-25.ec2.internal', 'TRAINING_JOB_NAME': 'randomcutforest-2023-04-26-22-47-16-504', 'NVIDIA_REQUIRE_CUDA': 'cuda>=9.0', 'TRAINING_JOB_ARN': 'arn:aws:sagemaker:us-east-1:544433795559:training-job/randomcutforest-2023-04-26-22-47-16-504', 'AWS_CONTAINER_CREDENTIALS_RELATIVE_URI': '/v2/credentials/proxy-22325db002601886fad08fe51698e8769d13d32c63e7a317d91004940c746e64-customer', 'CANONICAL_ENVROOT': '/opt/amazon', 'PYTHONUNBUFFERED': 'TRUE', 'NVIDIA_VISIBLE_DEVICES': 'all', 'LD_LIBRARY_PATH': '/opt/amazon/lib/python3.7/site-packages/cv2/../../../../lib:/usr/local/nvidia/lib64:/opt/amazon/lib', 'MXNET_KVSTORE_BIGARRAY_BOUND': '400000000', 'NVIDIA_DRIVER_CAPABILITIES': 'compute,utility', 'SAGEMAKER_MANAGED_WARMPOOL_CACHE_DIRECTORY': '/opt/ml/sagemaker/warmpoolcache', 'PATH': '/opt/amazon/bin:/usr/local/nvidia/bin:/usr/local/sbin:/usr/local/bin:/usr/sbin:/usr/bin:/sbin:/bin', 'PWD': '/', 'LANG': 'en_US.utf8', 'AWS_REGION': 'us-east-1', 'SAGEMAKER_METRICS_DIRECTORY': '/opt/ml/output/metrics/sagemaker', 'CUDA_VERSION': '11.1', 'HOME': '/root', 'SHLVL': '1', 'CUDA_COMPAT_NDRIVER_SUPPORTED_VERSION': '455.32.00', 'PROTOCOL_BUFFERS_PYTHON_IMPLEMENTATION_VERSION': '2', 'OMP_NUM_THREADS': '1', 'DMLC_INTERFACE': 'eth0', 'SAGEMAKER_HTTP_PORT': '8080', 'SAGEMAKER_DATA_PATH': '/opt/ml', 'KMP_DUPLICATE_LIB_OK': 'True', 'KMP_INIT_AT_FORK': 'FALSE', 'DMLC_ROLE': 'scheduler', 'DMLC_PS_ROOT_URI': '10.2.234.25', 'DMLC_PS_ROOT_PORT': '9000', 'DMLC_NUM_SERVER': '1', 'DMLC_NUM_WORKER': '1'}\u001b[0m\n",
      "\u001b[34m[04/26/2023 22:50:54 INFO 139652646061888] Launching parameter server for role server\u001b[0m\n",
      "\u001b[34m[04/26/2023 22:50:54 INFO 139652646061888] {'ENVROOT': '/opt/amazon', 'PROTOCOL_BUFFERS_PYTHON_IMPLEMENTATION': 'cpp', 'HOSTNAME': 'ip-10-2-234-25.ec2.internal', 'TRAINING_JOB_NAME': 'randomcutforest-2023-04-26-22-47-16-504', 'NVIDIA_REQUIRE_CUDA': 'cuda>=9.0', 'TRAINING_JOB_ARN': 'arn:aws:sagemaker:us-east-1:544433795559:training-job/randomcutforest-2023-04-26-22-47-16-504', 'AWS_CONTAINER_CREDENTIALS_RELATIVE_URI': '/v2/credentials/proxy-22325db002601886fad08fe51698e8769d13d32c63e7a317d91004940c746e64-customer', 'CANONICAL_ENVROOT': '/opt/amazon', 'PYTHONUNBUFFERED': 'TRUE', 'NVIDIA_VISIBLE_DEVICES': 'all', 'LD_LIBRARY_PATH': '/opt/amazon/lib/python3.7/site-packages/cv2/../../../../lib:/usr/local/nvidia/lib64:/opt/amazon/lib', 'MXNET_KVSTORE_BIGARRAY_BOUND': '400000000', 'NVIDIA_DRIVER_CAPABILITIES': 'compute,utility', 'SAGEMAKER_MANAGED_WARMPOOL_CACHE_DIRECTORY': '/opt/ml/sagemaker/warmpoolcache', 'PATH': '/opt/amazon/bin:/usr/local/nvidia/bin:/usr/local/sbin:/usr/local/bin:/usr/sbin:/usr/bin:/sbin:/bin', 'PWD': '/', 'LANG': 'en_US.utf8', 'AWS_REGION': 'us-east-1', 'SAGEMAKER_METRICS_DIRECTORY': '/opt/ml/output/metrics/sagemaker', 'CUDA_VERSION': '11.1', 'HOME': '/root', 'SHLVL': '1', 'CUDA_COMPAT_NDRIVER_SUPPORTED_VERSION': '455.32.00', 'PROTOCOL_BUFFERS_PYTHON_IMPLEMENTATION_VERSION': '2', 'OMP_NUM_THREADS': '1', 'DMLC_INTERFACE': 'eth0', 'SAGEMAKER_HTTP_PORT': '8080', 'SAGEMAKER_DATA_PATH': '/opt/ml', 'KMP_DUPLICATE_LIB_OK': 'True', 'KMP_INIT_AT_FORK': 'FALSE'}\u001b[0m\n",
      "\u001b[34m[04/26/2023 22:50:54 INFO 139652646061888] envs={'ENVROOT': '/opt/amazon', 'PROTOCOL_BUFFERS_PYTHON_IMPLEMENTATION': 'cpp', 'HOSTNAME': 'ip-10-2-234-25.ec2.internal', 'TRAINING_JOB_NAME': 'randomcutforest-2023-04-26-22-47-16-504', 'NVIDIA_REQUIRE_CUDA': 'cuda>=9.0', 'TRAINING_JOB_ARN': 'arn:aws:sagemaker:us-east-1:544433795559:training-job/randomcutforest-2023-04-26-22-47-16-504', 'AWS_CONTAINER_CREDENTIALS_RELATIVE_URI': '/v2/credentials/proxy-22325db002601886fad08fe51698e8769d13d32c63e7a317d91004940c746e64-customer', 'CANONICAL_ENVROOT': '/opt/amazon', 'PYTHONUNBUFFERED': 'TRUE', 'NVIDIA_VISIBLE_DEVICES': 'all', 'LD_LIBRARY_PATH': '/opt/amazon/lib/python3.7/site-packages/cv2/../../../../lib:/usr/local/nvidia/lib64:/opt/amazon/lib', 'MXNET_KVSTORE_BIGARRAY_BOUND': '400000000', 'NVIDIA_DRIVER_CAPABILITIES': 'compute,utility', 'SAGEMAKER_MANAGED_WARMPOOL_CACHE_DIRECTORY': '/opt/ml/sagemaker/warmpoolcache', 'PATH': '/opt/amazon/bin:/usr/local/nvidia/bin:/usr/local/sbin:/usr/local/bin:/usr/sbin:/usr/bin:/sbin:/bin', 'PWD': '/', 'LANG': 'en_US.utf8', 'AWS_REGION': 'us-east-1', 'SAGEMAKER_METRICS_DIRECTORY': '/opt/ml/output/metrics/sagemaker', 'CUDA_VERSION': '11.1', 'HOME': '/root', 'SHLVL': '1', 'CUDA_COMPAT_NDRIVER_SUPPORTED_VERSION': '455.32.00', 'PROTOCOL_BUFFERS_PYTHON_IMPLEMENTATION_VERSION': '2', 'OMP_NUM_THREADS': '1', 'DMLC_INTERFACE': 'eth0', 'SAGEMAKER_HTTP_PORT': '8080', 'SAGEMAKER_DATA_PATH': '/opt/ml', 'KMP_DUPLICATE_LIB_OK': 'True', 'KMP_INIT_AT_FORK': 'FALSE', 'DMLC_ROLE': 'server', 'DMLC_PS_ROOT_URI': '10.2.234.25', 'DMLC_PS_ROOT_PORT': '9000', 'DMLC_NUM_SERVER': '1', 'DMLC_NUM_WORKER': '1'}\u001b[0m\n",
      "\u001b[34m[04/26/2023 22:50:54 INFO 139652646061888] Environment: {'ENVROOT': '/opt/amazon', 'PROTOCOL_BUFFERS_PYTHON_IMPLEMENTATION': 'cpp', 'HOSTNAME': 'ip-10-2-234-25.ec2.internal', 'TRAINING_JOB_NAME': 'randomcutforest-2023-04-26-22-47-16-504', 'NVIDIA_REQUIRE_CUDA': 'cuda>=9.0', 'TRAINING_JOB_ARN': 'arn:aws:sagemaker:us-east-1:544433795559:training-job/randomcutforest-2023-04-26-22-47-16-504', 'AWS_CONTAINER_CREDENTIALS_RELATIVE_URI': '/v2/credentials/proxy-22325db002601886fad08fe51698e8769d13d32c63e7a317d91004940c746e64-customer', 'CANONICAL_ENVROOT': '/opt/amazon', 'PYTHONUNBUFFERED': 'TRUE', 'NVIDIA_VISIBLE_DEVICES': 'all', 'LD_LIBRARY_PATH': '/opt/amazon/lib/python3.7/site-packages/cv2/../../../../lib:/usr/local/nvidia/lib64:/opt/amazon/lib', 'MXNET_KVSTORE_BIGARRAY_BOUND': '400000000', 'NVIDIA_DRIVER_CAPABILITIES': 'compute,utility', 'SAGEMAKER_MANAGED_WARMPOOL_CACHE_DIRECTORY': '/opt/ml/sagemaker/warmpoolcache', 'PATH': '/opt/amazon/bin:/usr/local/nvidia/bin:/usr/local/sbin:/usr/local/bin:/usr/sbin:/usr/bin:/sbin:/bin', 'PWD': '/', 'LANG': 'en_US.utf8', 'AWS_REGION': 'us-east-1', 'SAGEMAKER_METRICS_DIRECTORY': '/opt/ml/output/metrics/sagemaker', 'CUDA_VERSION': '11.1', 'HOME': '/root', 'SHLVL': '1', 'CUDA_COMPAT_NDRIVER_SUPPORTED_VERSION': '455.32.00', 'PROTOCOL_BUFFERS_PYTHON_IMPLEMENTATION_VERSION': '2', 'OMP_NUM_THREADS': '1', 'DMLC_INTERFACE': 'eth0', 'SAGEMAKER_HTTP_PORT': '8080', 'SAGEMAKER_DATA_PATH': '/opt/ml', 'KMP_DUPLICATE_LIB_OK': 'True', 'KMP_INIT_AT_FORK': 'FALSE', 'DMLC_ROLE': 'worker', 'DMLC_PS_ROOT_URI': '10.2.234.25', 'DMLC_PS_ROOT_PORT': '9000', 'DMLC_NUM_SERVER': '1', 'DMLC_NUM_WORKER': '1'}\u001b[0m\n",
      "\u001b[34mProcess 33 is a shell:scheduler.\u001b[0m\n",
      "\u001b[34mProcess 43 is a shell:server.\u001b[0m\n",
      "\u001b[34mProcess 7 is a worker.\u001b[0m\n",
      "\u001b[34m[04/26/2023 22:50:54 INFO 139652646061888] Using default worker.\u001b[0m\n",
      "\u001b[34m[04/26/2023 22:50:54 INFO 139652646061888] Loaded iterator creator application/x-recordio-protobuf for content type ('application/x-recordio-protobuf', '1.0')\u001b[0m\n",
      "\u001b[34m[04/26/2023 22:50:54 INFO 139652646061888] Checkpoint loading and saving are disabled.\u001b[0m\n",
      "\u001b[34m[04/26/2023 22:50:54 INFO 139652646061888] Verifying hyperparamemters...\u001b[0m\n",
      "\u001b[34m[04/26/2023 22:50:54 INFO 139652646061888] Hyperparameters are correct.\u001b[0m\n",
      "\u001b[34m[04/26/2023 22:50:54 INFO 139652646061888] Validating that feature_dim agrees with dimensions in training data...\u001b[0m\n",
      "\u001b[34m[04/26/2023 22:50:54 INFO 139652646061888] feature_dim is correct.\u001b[0m\n",
      "\u001b[34m[04/26/2023 22:50:54 INFO 139652646061888] Validating memory limits...\u001b[0m\n",
      "\u001b[34m[04/26/2023 22:50:54 INFO 139652646061888] Available memory in bytes: 6822518784\u001b[0m\n",
      "\u001b[34m[04/26/2023 22:50:54 INFO 139652646061888] Estimated sample size in bytes: 6144000\u001b[0m\n",
      "\u001b[34m[04/26/2023 22:50:54 INFO 139652646061888] Estimated memory needed to build the forest in bytes: 30720000\u001b[0m\n",
      "\u001b[34m[04/26/2023 22:50:54 INFO 139652646061888] Memory limits validated.\u001b[0m\n",
      "\u001b[34m[04/26/2023 22:50:54 INFO 139652646061888] Starting cluster sharing facilities...\u001b[0m\n",
      "\u001b[34m[04/26/2023 22:50:54 INFO 139650226177792] concurrency model: async\u001b[0m\n",
      "\u001b[34m[04/26/2023 22:50:54 INFO 139652646061888] Create Store: dist_async\u001b[0m\n",
      "\u001b[34m[04/26/2023 22:50:54 INFO 139650226177792] masquerade (NAT) address: None\u001b[0m\n",
      "\u001b[34m[04/26/2023 22:50:54 INFO 139650226177792] passive ports: None\u001b[0m\n",
      "\u001b[34m[04/26/2023 22:50:54 INFO 139650226177792] >>> starting FTP server on 0.0.0.0:8999, pid=7 <<<\u001b[0m\n",
      "\u001b[34m[04/26/2023 22:50:56 INFO 139652646061888] Cluster sharing facilities started.\u001b[0m\n",
      "\u001b[34m[04/26/2023 22:50:56 INFO 139652646061888] Verifying all workers are accessible...\u001b[0m\n",
      "\u001b[34m[04/26/2023 22:50:56 INFO 139652646061888] All workers accessible.\u001b[0m\n",
      "\u001b[34m[04/26/2023 22:50:56 INFO 139652646061888] Initializing Sampler...\u001b[0m\n",
      "\u001b[34m[04/26/2023 22:50:56 INFO 139652646061888] Sampler correctly initialized.\u001b[0m\n",
      "\u001b[34m#metrics {\"StartTime\": 1682549454.9042337, \"EndTime\": 1682549456.413516, \"Dimensions\": {\"Algorithm\": \"RandomCutForest\", \"Host\": \"algo-1\", \"Operation\": \"training\"}, \"Metrics\": {\"initialize.time\": {\"sum\": 1503.4947395324707, \"count\": 1, \"min\": 1503.4947395324707, \"max\": 1503.4947395324707}}}\u001b[0m\n",
      "\u001b[34m#metrics {\"StartTime\": 1682549456.4136972, \"EndTime\": 1682549456.4137406, \"Dimensions\": {\"Algorithm\": \"RandomCutForest\", \"Host\": \"algo-1\", \"Operation\": \"training\", \"Meta\": \"init_train_data_iter\"}, \"Metrics\": {\"Total Records Seen\": {\"sum\": 0.0, \"count\": 1, \"min\": 0, \"max\": 0}, \"Total Batches Seen\": {\"sum\": 0.0, \"count\": 1, \"min\": 0, \"max\": 0}, \"Max Records Seen Between Resets\": {\"sum\": 0.0, \"count\": 1, \"min\": 0, \"max\": 0}, \"Max Batches Seen Between Resets\": {\"sum\": 0.0, \"count\": 1, \"min\": 0, \"max\": 0}, \"Reset Count\": {\"sum\": 0.0, \"count\": 1, \"min\": 0, \"max\": 0}, \"Number of Records Since Last Reset\": {\"sum\": 0.0, \"count\": 1, \"min\": 0, \"max\": 0}, \"Number of Batches Since Last Reset\": {\"sum\": 0.0, \"count\": 1, \"min\": 0, \"max\": 0}}}\u001b[0m\n",
      "\u001b[34m[2023-04-26 22:50:56.415] [tensorio] [info] epoch_stats={\"data_pipeline\": \"/opt/ml/input/data/train\", \"epoch\": 0, \"duration\": 1510, \"num_examples\": 1, \"num_bytes\": 148000}\u001b[0m\n",
      "\u001b[34m[04/26/2023 22:50:56 INFO 139652646061888] Sampling training data...\u001b[0m\n",
      "\u001b[34m[2023-04-26 22:50:56.762] [tensorio] [info] epoch_stats={\"data_pipeline\": \"/opt/ml/input/data/train\", \"epoch\": 1, \"duration\": 346, \"num_examples\": 257, \"num_bytes\": 37936248}\u001b[0m\n",
      "\u001b[34m[04/26/2023 22:50:56 INFO 139652646061888] Sampling training data completed.\u001b[0m\n",
      "\u001b[34m#metrics {\"StartTime\": 1682549456.4136505, \"EndTime\": 1682549456.774063, \"Dimensions\": {\"Algorithm\": \"RandomCutForest\", \"Host\": \"algo-1\", \"Operation\": \"training\"}, \"Metrics\": {\"epochs\": {\"sum\": 1.0, \"count\": 1, \"min\": 1, \"max\": 1}, \"update.time\": {\"sum\": 358.5467338562012, \"count\": 1, \"min\": 358.5467338562012, \"max\": 358.5467338562012}}}\u001b[0m\n",
      "\u001b[34m[04/26/2023 22:50:56 INFO 139652646061888] Early stop condition met. Stopping training.\u001b[0m\n",
      "\u001b[34m[04/26/2023 22:50:56 INFO 139652646061888] #progress_metric: host=algo-1, completed 100 % epochs\u001b[0m\n",
      "\u001b[34m#metrics {\"StartTime\": 1682549456.4154859, \"EndTime\": 1682549456.7747643, \"Dimensions\": {\"Algorithm\": \"RandomCutForest\", \"Host\": \"algo-1\", \"Operation\": \"training\", \"epoch\": 0, \"Meta\": \"training_data_iter\"}, \"Metrics\": {\"Total Records Seen\": {\"sum\": 256326.0, \"count\": 1, \"min\": 256326, \"max\": 256326}, \"Total Batches Seen\": {\"sum\": 257.0, \"count\": 1, \"min\": 257, \"max\": 257}, \"Max Records Seen Between Resets\": {\"sum\": 256326.0, \"count\": 1, \"min\": 256326, \"max\": 256326}, \"Max Batches Seen Between Resets\": {\"sum\": 257.0, \"count\": 1, \"min\": 257, \"max\": 257}, \"Reset Count\": {\"sum\": 1.0, \"count\": 1, \"min\": 1, \"max\": 1}, \"Number of Records Since Last Reset\": {\"sum\": 256326.0, \"count\": 1, \"min\": 256326, \"max\": 256326}, \"Number of Batches Since Last Reset\": {\"sum\": 257.0, \"count\": 1, \"min\": 257, \"max\": 257}}}\u001b[0m\n",
      "\u001b[34m[04/26/2023 22:50:56 INFO 139652646061888] #throughput_metric: host=algo-1, train throughput=713219.4689170712 records/second\u001b[0m\n",
      "\u001b[34m[04/26/2023 22:50:56 INFO 139652646061888] Master node: building Random Cut Forest...\u001b[0m\n",
      "\u001b[34m[04/26/2023 22:50:56 INFO 139652646061888] Gathering samples...\u001b[0m\n",
      "\u001b[34m[04/26/2023 22:50:56 INFO 139652646061888] 25600 samples gathered\u001b[0m\n",
      "\u001b[34m[04/26/2023 22:50:56 INFO 139652646061888] Building Random Cut Forest...\u001b[0m\n",
      "\u001b[34m[04/26/2023 22:50:56 INFO 139652646061888] Random Cut Forest built: \u001b[0m\n",
      "\u001b[34mForestInfo{num_trees: 50, num_samples_in_forest: 25600, num_samples_per_tree: 512, sample_dim: 30, shingle_size: 1, trees_num_nodes: [953, 919, 941, 955, 961, 907, 941, 929, 923, 913, 935, 921, 933, 939, 931, 943, 919, 941, 943, 929, 945, 935, 941, 915, 925, 917, 925, 931, 921, 917, 941, 925, 923, 929, 925, 937, 925, 939, 945, 921, 939, 923, 925, 921, 933, 915, 929, 945, 921, 929, ], trees_depth: [22, 19, 25, 25, 24, 23, 22, 21, 24, 25, 22, 20, 21, 22, 20, 24, 19, 21, 20, 16, 20, 23, 19, 19, 21, 20, 18, 25, 25, 22, 21, 21, 21, 20, 24, 20, 20, 21, 17, 22, 19, 20, 21, 20, 19, 21, 23, 20, 20, 24, ], max_num_nodes: 961, min_num_nodes: 907, avg_num_nodes: 930, max_tree_depth: 25, min_tree_depth: 16, avg_tree_depth: 21, mem_size: 26434032}\u001b[0m\n",
      "\u001b[34m#metrics {\"StartTime\": 1682549456.774239, \"EndTime\": 1682549456.8778467, \"Dimensions\": {\"Algorithm\": \"RandomCutForest\", \"Host\": \"algo-1\", \"Operation\": \"training\"}, \"Metrics\": {\"fit_model.time\": {\"sum\": 82.03577995300293, \"count\": 1, \"min\": 82.03577995300293, \"max\": 82.03577995300293}, \"model.bytes\": {\"sum\": 26434032.0, \"count\": 1, \"min\": 26434032, \"max\": 26434032}, \"finalize.time\": {\"sum\": 102.64706611633301, \"count\": 1, \"min\": 102.64706611633301, \"max\": 102.64706611633301}}}\u001b[0m\n",
      "\u001b[34m[04/26/2023 22:50:57 INFO 139652646061888] Master node: Serializing the RandomCutForest model\u001b[0m\n",
      "\u001b[34m#metrics {\"StartTime\": 1682549456.8779762, \"EndTime\": 1682549457.6066482, \"Dimensions\": {\"Algorithm\": \"RandomCutForest\", \"Host\": \"algo-1\", \"Operation\": \"training\"}, \"Metrics\": {\"serialize_model.time\": {\"sum\": 728.5964488983154, \"count\": 1, \"min\": 728.5964488983154, \"max\": 728.5964488983154}}}\u001b[0m\n",
      "\u001b[34m[04/26/2023 22:50:57 INFO 139652646061888] Test data is not provided.\u001b[0m\n",
      "\u001b[34m#metrics {\"StartTime\": 1682549457.6067245, \"EndTime\": 1682549457.606834, \"Dimensions\": {\"Algorithm\": \"RandomCutForest\", \"Host\": \"algo-1\", \"Operation\": \"training\"}, \"Metrics\": {\"setuptime\": {\"sum\": 27.737140655517578, \"count\": 1, \"min\": 27.737140655517578, \"max\": 27.737140655517578}, \"totaltime\": {\"sum\": 2738.5923862457275, \"count\": 1, \"min\": 2738.5923862457275, \"max\": 2738.5923862457275}}}\u001b[0m\n",
      "\n",
      "2023-04-26 22:51:04 Uploading - Uploading generated training model\n",
      "2023-04-26 22:51:25 Completed - Training job completed\n",
      "Training seconds: 187\n",
      "Billable seconds: 187\n"
     ]
    }
   ],
   "source": [
    "rcf.fit(rcf.record_set(x_train))"
   ]
  },
  {
   "cell_type": "code",
   "execution_count": 55,
   "id": "269c9f4d-b8e6-4dde-b924-a9b7a2f466f8",
   "metadata": {
    "tags": []
   },
   "outputs": [
    {
     "name": "stderr",
     "output_type": "stream",
     "text": [
      "WARNING:sagemaker:Parameter image will be renamed to image_uri in SageMaker Python SDK v2.\n"
     ]
    },
    {
     "name": "stdout",
     "output_type": "stream",
     "text": [
      "---------!"
     ]
    }
   ],
   "source": [
    "rcf_predictor = rcf.deploy(\n",
    "    model_name=\"{}-rcf\".format('vpendpoint'),\n",
    "    endpoint_name=\"{}-rcf\".format('vpendpoint'),\n",
    "    initial_instance_count=1,\n",
    "    instance_type=instance_type)"
   ]
  },
  {
   "cell_type": "code",
   "execution_count": 56,
   "id": "0ff78bf8-14f7-493c-8721-0be2aac4dd0c",
   "metadata": {
    "tags": []
   },
   "outputs": [],
   "source": [
    "from sagemaker.predictor import csv_serializer, json_serializer"
   ]
  },
  {
   "cell_type": "code",
   "execution_count": 61,
   "id": "3ac09715-411b-4ac2-a5a3-a495e98471fc",
   "metadata": {
    "tags": []
   },
   "outputs": [],
   "source": [
    "rcf_predictor.content_type = 'text/csv'\n",
    "rcf_predictor.serializer = csv_serializer\n",
    "rcf_predictor.accept = 'application/json'\n",
    "rcf_predictor.deserializer = json_deserializer"
   ]
  },
  {
   "cell_type": "code",
   "execution_count": 62,
   "id": "e5405498-fa5a-46c0-9024-7c8be72e07bd",
   "metadata": {
    "tags": []
   },
   "outputs": [],
   "source": [
    "def predict_rcf(current_predictor, data, rows=500):\n",
    "    split_array = np.array_split(data, int(data.shape[0] / float(rows) + 1))\n",
    "    predictions = []\n",
    "    for array in split_array:\n",
    "        array_preds = [s['score'] for s in current_predictor.predict(array)['scores']]\n",
    "        predictions.append(array_preds)\n",
    "\n",
    "    return np.concatenate([np.array(batch) for batch in predictions])"
   ]
  },
  {
   "cell_type": "code",
   "execution_count": 63,
   "id": "68e812b3-eb6f-4f19-adec-924c111586d6",
   "metadata": {
    "tags": []
   },
   "outputs": [],
   "source": [
    "positives = x_test[y_test == 1]\n",
    "positives_scores = predict_rcf(rcf_predictor,positives)\n",
    "\n",
    "negatives = x_test[y_test == 0]\n",
    "negatives_scores = predict_rcf(rcf_predictor, negatives)"
   ]
  },
  {
   "cell_type": "code",
   "execution_count": 64,
   "id": "98ad98c1-f3fa-4021-be15-4058008d2ccc",
   "metadata": {
    "tags": []
   },
   "outputs": [
    {
     "data": {
      "text/plain": [
       "array([0.87125192, 0.7961739 , 0.83836139, 1.11676382, 1.00886842,\n",
       "       0.75307209, 1.03397659, 0.8451375 , 1.07489826, 0.74568014,\n",
       "       0.74589767, 0.74689563, 0.69513967, 0.68702165, 0.76168908,\n",
       "       0.8018368 , 0.71102097, 0.84824665, 0.80252246, 0.74597164,\n",
       "       0.74493157, 0.82507578, 1.06404415, 1.08809278, 0.78954167,\n",
       "       0.78556332, 0.80128703, 0.75989036, 0.83980227, 1.04562227,\n",
       "       0.82490537, 0.83077234, 1.05857737, 0.76238841, 1.24058354,\n",
       "       1.00611155, 0.86713682, 0.97086995, 1.1269336 , 0.92303447,\n",
       "       0.8300269 , 0.78349225, 1.00850745, 1.23242341, 1.1126642 ,\n",
       "       0.7764552 ])"
      ]
     },
     "execution_count": 64,
     "metadata": {},
     "output_type": "execute_result"
    }
   ],
   "source": [
    "positives_scores"
   ]
  },
  {
   "cell_type": "code",
   "execution_count": 65,
   "id": "38469637-0ef6-4a3d-aab4-9e4ab6b69f8a",
   "metadata": {
    "tags": []
   },
   "outputs": [],
   "source": [
    "import seaborn as sns\n",
    "import matplotlib.pyplot as plt\n",
    "sns.set(color_codes = True)"
   ]
  },
  {
   "cell_type": "code",
   "execution_count": 67,
   "id": "7f4a44d7-3ded-48fd-a1d6-fcc020bc6b86",
   "metadata": {
    "tags": []
   },
   "outputs": [
    {
     "name": "stderr",
     "output_type": "stream",
     "text": [
      "/usr/local/lib/python3.6/site-packages/seaborn/distributions.py:2619: FutureWarning: `distplot` is a deprecated function and will be removed in a future version. Please adapt your code to use either `displot` (a figure-level function with similar flexibility) or `histplot` (an axes-level function for histograms).\n",
      "  warnings.warn(msg, FutureWarning)\n",
      "/usr/local/lib/python3.6/site-packages/seaborn/distributions.py:2619: FutureWarning: `distplot` is a deprecated function and will be removed in a future version. Please adapt your code to use either `displot` (a figure-level function with similar flexibility) or `histplot` (an axes-level function for histograms).\n",
      "  warnings.warn(msg, FutureWarning)\n"
     ]
    },
    {
     "data": {
      "text/plain": [
       "<matplotlib.legend.Legend at 0x7f42500d4ef0>"
      ]
     },
     "execution_count": 67,
     "metadata": {},
     "output_type": "execute_result"
    },
    {
     "data": {
      "image/png": "[encoded data removed]",
      "text/plain": [
       "<Figure size 432x288 with 1 Axes>"
      ]
     },
     "metadata": {},
     "output_type": "display_data"
    }
   ],
   "source": [
    "sns.distplot(positives_scores,label = 'fraud',bins = 20)\n",
    "sns.distplot(negatives_scores,label = 'not-fraud',bins = 20)\n",
    "plt.legend()"
   ]
  },
  {
   "cell_type": "code",
   "execution_count": 68,
   "id": "405bf764-5adf-442a-927e-7eefbb3547e1",
   "metadata": {
    "tags": []
   },
   "outputs": [],
   "source": [
    "import io\n",
    "import sklearn\n",
    "from sklearn.datasets import dump_svmlight_file"
   ]
  },
  {
   "cell_type": "code",
   "execution_count": 98,
   "id": "c813d528-95f2-4471-b81a-3ef8437440a6",
   "metadata": {
    "tags": []
   },
   "outputs": [],
   "source": [
    "buf = io.BytesIO()\n",
    "sklearn.datasets.dump_svmlight_file(x_train,y_train,buf)\n",
    "buf.seek(0);"
   ]
  },
  {
   "cell_type": "code",
   "execution_count": 71,
   "id": "4cd0177f-aa4d-4438-bf54-76e42eb36a70",
   "metadata": {
    "tags": []
   },
   "outputs": [],
   "source": [
    "from sagemaker.amazon.amazon_estimator import get_image_uri"
   ]
  },
  {
   "cell_type": "code",
   "execution_count": 72,
   "id": "fb7513a7-8bfa-42f1-872f-38d16b394f84",
   "metadata": {
    "tags": []
   },
   "outputs": [
    {
     "name": "stderr",
     "output_type": "stream",
     "text": [
      "WARNING:sagemaker.amazon.amazon_estimator:'get_image_uri' method will be deprecated in favor of 'ImageURIProvider' class in SageMaker Python SDK v2.\n",
      "WARNING:sagemaker.amazon.amazon_estimator:There is a more up to date SageMaker XGBoost image. To use the newer image, please set 'repo_version'='1.0-1'. For example:\n",
      "\tget_image_uri(region, 'xgboost', '1.0-1').\n"
     ]
    }
   ],
   "source": [
    "container = get_image_uri(boto3.Session().region_name,'xgboost',repo_version = '0.90-2')"
   ]
  },
  {
   "cell_type": "code",
   "execution_count": 73,
   "id": "3795bf43-de06-4203-afde-809656dc3ee0",
   "metadata": {
    "tags": []
   },
   "outputs": [
    {
     "data": {
      "text/plain": [
       "'683313688378.dkr.ecr.us-east-1.amazonaws.com/sagemaker-xgboost:0.90-2-cpu-py3'"
      ]
     },
     "execution_count": 73,
     "metadata": {},
     "output_type": "execute_result"
    }
   ],
   "source": [
    "container"
   ]
  },
  {
   "cell_type": "code",
   "execution_count": 74,
   "id": "5bf7c065-52ac-47a2-b17b-a21d1d0b89dd",
   "metadata": {
    "tags": []
   },
   "outputs": [],
   "source": [
    "from math import sqrt"
   ]
  },
  {
   "cell_type": "code",
   "execution_count": 79,
   "id": "c04dd1a7-918d-4ea8-b7e9-3f2ad01bad97",
   "metadata": {
    "tags": []
   },
   "outputs": [],
   "source": [
    "scale_pos_weight = sqrt(np.count_nonzero(y_train == 0) / np.count_nonzero(y_train == 1))"
   ]
  },
  {
   "cell_type": "code",
   "execution_count": 80,
   "id": "fe45db76-2de2-44ce-92cd-44f3e5c59df5",
   "metadata": {
    "tags": []
   },
   "outputs": [
    {
     "data": {
      "text/plain": [
       "23.952494089221073"
      ]
     },
     "execution_count": 80,
     "metadata": {},
     "output_type": "execute_result"
    }
   ],
   "source": [
    "scale_pos_weight"
   ]
  },
  {
   "cell_type": "code",
   "execution_count": 78,
   "id": "ff5d117c-83bc-441e-a225-2dda2c54a8d4",
   "metadata": {
    "tags": []
   },
   "outputs": [],
   "source": [
    "hyperparams = {\n",
    "    \"max_depth\":5,\n",
    "    \"subsample\":0.8,\n",
    "    \"num_round\":100,\n",
    "    \"eta\":0.2,\n",
    "    \"gamma\":4,\n",
    "    \"min_child_weight\":6,\n",
    "    \"silent\":0,\n",
    "    \"objective\":'binary:logistic',\n",
    "    \"eval_metric\":'auc',\n",
    "    \"scale_pos_weight\": scale_pos_weight\n",
    "}"
   ]
  },
  {
   "cell_type": "code",
   "execution_count": 83,
   "id": "ff6ffef0-3df9-4d1b-9857-c9b5e6a1415e",
   "metadata": {
    "tags": []
   },
   "outputs": [],
   "source": [
    "import sagemaker\n",
    "session = sagemaker.Session()"
   ]
  },
  {
   "cell_type": "code",
   "execution_count": 84,
   "id": "ab536e2f-8b3b-4414-a233-393a4a505473",
   "metadata": {
    "tags": []
   },
   "outputs": [
    {
     "data": {
      "text/plain": [
       "<sagemaker.session.Session at 0x7f425244e9b0>"
      ]
     },
     "execution_count": 84,
     "metadata": {},
     "output_type": "execute_result"
    }
   ],
   "source": [
    "session"
   ]
  },
  {
   "cell_type": "code",
   "execution_count": 86,
   "id": "7df25083-d6e1-4663-bf41-b9c6d9f06852",
   "metadata": {
    "tags": []
   },
   "outputs": [
    {
     "name": "stderr",
     "output_type": "stream",
     "text": [
      "WARNING:sagemaker.estimator:Parameter image_name will be renamed to image_uri in SageMaker Python SDK v2.\n"
     ]
    }
   ],
   "source": [
    "clf = sagemaker.estimator.Estimator(\n",
    "    image_name = container,\n",
    "    role = 'arn:aws:iam::544433795559:role/service-role/AmazonSageMaker-ExecutionRole-20230426T180700',\n",
    "    hyperparameters = hyperparams,\n",
    "    train_instance_count = 1,\n",
    "    train_instance_type = instance_type,\n",
    "    sagemaker_session = session\n",
    ")"
   ]
  },
  {
   "cell_type": "code",
   "execution_count": 99,
   "id": "5f9d2492-9b5c-4453-9ab6-9dee6f1caf60",
   "metadata": {
    "tags": []
   },
   "outputs": [
    {
     "name": "stderr",
     "output_type": "stream",
     "text": [
      "/usr/local/lib/python3.6/site-packages/boto3/compat.py:88: PythonDeprecationWarning: Boto3 will no longer support Python 3.6 starting May 30, 2022. To continue receiving service updates, bug fixes, and security updates please upgrade to Python 3.7 or later. More information can be found here: https://aws.amazon.com/blogs/developer/python-support-policy-updates-for-aws-sdks-and-tools/\n",
      "  warnings.warn(warning, PythonDeprecationWarning)\n"
     ]
    }
   ],
   "source": [
    "key = 'fraud-dataset'\n",
    "subdir = 'base'\n",
    "prefix = 'fraud-classifier'\n",
    "boto3.resource('s3',region_name = 'us-east-1').Bucket('sagemaker-us-east-1-544433795559').Object(os.path.join(prefix, 'train', subdir, key)).upload_fileobj(buf)"
   ]
  },
  {
   "cell_type": "code",
   "execution_count": 100,
   "id": "d5e0cf3d-e257-4493-96c6-8df80388d277",
   "metadata": {
    "tags": []
   },
   "outputs": [
    {
     "name": "stdout",
     "output_type": "stream",
     "text": [
      "Uploaded training data location: s3://sagemaker-us-east-1-544433795559/fraud-classifier/train/base/fraud-dataset\n"
     ]
    }
   ],
   "source": [
    "s3_train_data = 's3://{}/{}/train/{}/{}'.format('sagemaker-us-east-1-544433795559', prefix, subdir, key)\n",
    "print('Uploaded training data location: {}'.format(s3_train_data))"
   ]
  },
  {
   "cell_type": "code",
   "execution_count": 101,
   "id": "97dca64e-ae4c-4ad2-accf-8adcdca9bebb",
   "metadata": {
    "tags": []
   },
   "outputs": [
    {
     "name": "stdout",
     "output_type": "stream",
     "text": [
      "Training artifacts will be uploaded to: s3://sagemaker-us-east-1-544433795559/fraud-classifier/output\n"
     ]
    }
   ],
   "source": [
    "output_location = 's3://{}/{}/output'.format('sagemaker-us-east-1-544433795559', prefix)\n",
    "print('Training artifacts will be uploaded to: {}'.format(output_location))"
   ]
  },
  {
   "cell_type": "code",
   "execution_count": 102,
   "id": "fcf37d3d-0442-4e03-a963-e377eb781f16",
   "metadata": {
    "tags": []
   },
   "outputs": [
    {
     "name": "stderr",
     "output_type": "stream",
     "text": [
      "WARNING:sagemaker:'s3_input' class will be renamed to 'TrainingInput' in SageMaker Python SDK v2.\n"
     ]
    },
    {
     "name": "stdout",
     "output_type": "stream",
     "text": [
      "2023-04-27 02:06:39 Starting - Starting the training job...\n",
      "2023-04-27 02:06:55 Starting - Preparing the instances for training......\n",
      "2023-04-27 02:07:42 Downloading - Downloading input data...\n",
      "2023-04-27 02:08:23 Training - Downloading the training image...\n",
      "2023-04-27 02:08:58 Training - Training image download completed. Training in progress...\u001b[34mINFO:sagemaker-containers:Imported framework sagemaker_xgboost_container.training\u001b[0m\n",
      "\u001b[34mINFO:sagemaker-containers:Failed to parse hyperparameter eval_metric value auc to Json.\u001b[0m\n",
      "\u001b[34mReturning the value itself\u001b[0m\n",
      "\u001b[34mINFO:sagemaker-containers:Failed to parse hyperparameter objective value binary:logistic to Json.\u001b[0m\n",
      "\u001b[34mReturning the value itself\u001b[0m\n",
      "\u001b[34mINFO:sagemaker-containers:No GPUs detected (normal if no gpus installed)\u001b[0m\n",
      "\u001b[34mINFO:sagemaker_xgboost_container.training:Running XGBoost Sagemaker in algorithm mode\u001b[0m\n",
      "\u001b[34m[02:09:05] 256326x30 matrix with 7688153 entries loaded from /opt/ml/input/data/train\u001b[0m\n",
      "\u001b[34mINFO:root:Single node training.\u001b[0m\n",
      "\u001b[34mINFO:root:Train matrix has 256326 rows\u001b[0m\n",
      "\u001b[34m[0]#011train-auc:0.949304\u001b[0m\n",
      "\u001b[34m[1]#011train-auc:0.970153\u001b[0m\n",
      "\u001b[34m[2]#011train-auc:0.976339\u001b[0m\n",
      "\u001b[34m[3]#011train-auc:0.979237\u001b[0m\n",
      "\u001b[34m[4]#011train-auc:0.979121\u001b[0m\n",
      "\u001b[34m[5]#011train-auc:0.982229\u001b[0m\n",
      "\u001b[34m[6]#011train-auc:0.982265\u001b[0m\n",
      "\u001b[34m[7]#011train-auc:0.982364\u001b[0m\n",
      "\u001b[34m[8]#011train-auc:0.982511\u001b[0m\n",
      "\u001b[34m[9]#011train-auc:0.984091\u001b[0m\n",
      "\u001b[34m[10]#011train-auc:0.985393\u001b[0m\n",
      "\u001b[34m[11]#011train-auc:0.986369\u001b[0m\n",
      "\u001b[34m[12]#011train-auc:0.992521\u001b[0m\n",
      "\u001b[34m[13]#011train-auc:0.992637\u001b[0m\n",
      "\u001b[34m[14]#011train-auc:0.993284\u001b[0m\n",
      "\u001b[34m[15]#011train-auc:0.994226\u001b[0m\n",
      "\u001b[34m[16]#011train-auc:0.996567\u001b[0m\n",
      "\u001b[34m[17]#011train-auc:0.997222\u001b[0m\n",
      "\u001b[34m[18]#011train-auc:0.99788\u001b[0m\n",
      "\u001b[34m[19]#011train-auc:0.99883\u001b[0m\n",
      "\u001b[34m[20]#011train-auc:0.998995\u001b[0m\n",
      "\u001b[34m[21]#011train-auc:0.999144\u001b[0m\n",
      "\u001b[34m[22]#011train-auc:0.999097\u001b[0m\n",
      "\u001b[34m[23]#011train-auc:0.999722\u001b[0m\n",
      "\u001b[34m[24]#011train-auc:0.999731\u001b[0m\n",
      "\u001b[34m[25]#011train-auc:0.999838\u001b[0m\n",
      "\u001b[34m[26]#011train-auc:0.999885\u001b[0m\n",
      "\u001b[34m[27]#011train-auc:0.999887\u001b[0m\n",
      "\u001b[34m[28]#011train-auc:0.999902\u001b[0m\n",
      "\u001b[34m[29]#011train-auc:0.999914\u001b[0m\n",
      "\u001b[34m[30]#011train-auc:0.999931\u001b[0m\n",
      "\u001b[34m[31]#011train-auc:0.999936\u001b[0m\n",
      "\u001b[34m[32]#011train-auc:0.999946\u001b[0m\n",
      "\u001b[34m[33]#011train-auc:0.99995\u001b[0m\n",
      "\u001b[34m[34]#011train-auc:0.999957\u001b[0m\n",
      "\u001b[34m[35]#011train-auc:0.999959\u001b[0m\n",
      "\u001b[34m[36]#011train-auc:0.999961\u001b[0m\n",
      "\u001b[34m[37]#011train-auc:0.999962\u001b[0m\n",
      "\u001b[34m[38]#011train-auc:0.999963\u001b[0m\n",
      "\u001b[34m[39]#011train-auc:0.999965\u001b[0m\n",
      "\u001b[34m[40]#011train-auc:0.999966\u001b[0m\n",
      "\u001b[34m[41]#011train-auc:0.99997\u001b[0m\n",
      "\u001b[34m[42]#011train-auc:0.999973\u001b[0m\n",
      "\u001b[34m[43]#011train-auc:0.999975\u001b[0m\n",
      "\u001b[34m[44]#011train-auc:0.999975\u001b[0m\n",
      "\u001b[34m[45]#011train-auc:0.999976\u001b[0m\n",
      "\u001b[34m[46]#011train-auc:0.999979\u001b[0m\n",
      "\u001b[34m[47]#011train-auc:0.999981\u001b[0m\n",
      "\u001b[34m[48]#011train-auc:0.999983\u001b[0m\n",
      "\u001b[34m[49]#011train-auc:0.999983\u001b[0m\n",
      "\u001b[34m[50]#011train-auc:0.999985\u001b[0m\n",
      "\u001b[34m[51]#011train-auc:0.999986\u001b[0m\n",
      "\u001b[34m[52]#011train-auc:0.999987\u001b[0m\n",
      "\u001b[34m[53]#011train-auc:0.999987\u001b[0m\n",
      "\u001b[34m[54]#011train-auc:0.999988\u001b[0m\n",
      "\u001b[34m[55]#011train-auc:0.999988\u001b[0m\n",
      "\u001b[34m[56]#011train-auc:0.999988\u001b[0m\n",
      "\u001b[34m[57]#011train-auc:0.999989\u001b[0m\n",
      "\u001b[34m[58]#011train-auc:0.999989\u001b[0m\n",
      "\u001b[34m[59]#011train-auc:0.999989\u001b[0m\n",
      "\u001b[34m[60]#011train-auc:0.99999\u001b[0m\n",
      "\u001b[34m[61]#011train-auc:0.99999\u001b[0m\n",
      "\u001b[34m[62]#011train-auc:0.99999\u001b[0m\n",
      "\u001b[34m[63]#011train-auc:0.999991\u001b[0m\n",
      "\u001b[34m[64]#011train-auc:0.999992\u001b[0m\n",
      "\u001b[34m[65]#011train-auc:0.999993\u001b[0m\n",
      "\u001b[34m[66]#011train-auc:0.999993\u001b[0m\n",
      "\u001b[34m[67]#011train-auc:0.999993\u001b[0m\n",
      "\u001b[34m[68]#011train-auc:0.999993\u001b[0m\n",
      "\u001b[34m[69]#011train-auc:0.999994\u001b[0m\n",
      "\u001b[34m[70]#011train-auc:0.999993\u001b[0m\n",
      "\u001b[34m[71]#011train-auc:0.999994\u001b[0m\n",
      "\u001b[34m[72]#011train-auc:0.999994\u001b[0m\n",
      "\u001b[34m[73]#011train-auc:0.999995\u001b[0m\n",
      "\u001b[34m[74]#011train-auc:0.999995\u001b[0m\n",
      "\u001b[34m[75]#011train-auc:0.999995\u001b[0m\n",
      "\u001b[34m[76]#011train-auc:0.999996\u001b[0m\n",
      "\u001b[34m[77]#011train-auc:0.999996\u001b[0m\n",
      "\u001b[34m[78]#011train-auc:0.999996\u001b[0m\n",
      "\u001b[34m[79]#011train-auc:0.999996\u001b[0m\n",
      "\u001b[34m[80]#011train-auc:0.999996\u001b[0m\n",
      "\u001b[34m[81]#011train-auc:0.999996\u001b[0m\n",
      "\u001b[34m[82]#011train-auc:0.999997\u001b[0m\n",
      "\u001b[34m[83]#011train-auc:0.999997\u001b[0m\n",
      "\u001b[34m[84]#011train-auc:0.999997\u001b[0m\n",
      "\u001b[34m[85]#011train-auc:0.999997\u001b[0m\n",
      "\u001b[34m[86]#011train-auc:0.999997\u001b[0m\n",
      "\u001b[34m[87]#011train-auc:0.999997\u001b[0m\n",
      "\u001b[34m[88]#011train-auc:0.999998\u001b[0m\n",
      "\u001b[34m[89]#011train-auc:0.999998\u001b[0m\n",
      "\u001b[34m[90]#011train-auc:0.999998\u001b[0m\n",
      "\u001b[34m[91]#011train-auc:0.999998\u001b[0m\n",
      "\u001b[34m[92]#011train-auc:0.999998\u001b[0m\n",
      "\u001b[34m[93]#011train-auc:0.999998\u001b[0m\n",
      "\u001b[34m[94]#011train-auc:0.999998\u001b[0m\n",
      "\u001b[34m[95]#011train-auc:0.999998\u001b[0m\n",
      "\u001b[34m[96]#011train-auc:0.999998\u001b[0m\n",
      "\u001b[34m[97]#011train-auc:0.999998\u001b[0m\n",
      "\u001b[34m[98]#011train-auc:0.999998\u001b[0m\n",
      "\u001b[34m[99]#011train-auc:0.999999\u001b[0m\n",
      "\n",
      "2023-04-27 02:10:40 Uploading - Uploading generated training model\n",
      "2023-04-27 02:10:40 Completed - Training job completed\n",
      "Training seconds: 178\n",
      "Billable seconds: 178\n"
     ]
    }
   ],
   "source": [
    "clf.fit({'train':s3_train_data})"
   ]
  },
  {
   "cell_type": "code",
   "execution_count": 103,
   "id": "e973bae6-2427-447e-9c19-bf5a35d648f7",
   "metadata": {
    "tags": []
   },
   "outputs": [],
   "source": [
    "from sagemaker.predictor import csv_serializer"
   ]
  },
  {
   "cell_type": "code",
   "execution_count": 104,
   "id": "47c32e57-e8df-429c-8614-b9af03bb9458",
   "metadata": {
    "tags": []
   },
   "outputs": [
    {
     "name": "stderr",
     "output_type": "stream",
     "text": [
      "WARNING:sagemaker:Parameter image will be renamed to image_uri in SageMaker Python SDK v2.\n"
     ]
    },
    {
     "name": "stdout",
     "output_type": "stream",
     "text": [
      "-----!"
     ]
    }
   ],
   "source": [
    "predictor = clf.deploy(initial_instance_count=1,\n",
    "                       model_name=\"{}-xgb\".format('vpendpoint'),\n",
    "                       endpoint_name=\"{}-xgb\".format('vpendpoint'),\n",
    "                       instance_type=instance_type,\n",
    "                       serializer=csv_serializer,\n",
    "                       deserializer=None,\n",
    "                       content_type='text/csv')"
   ]
  },
  {
   "cell_type": "code",
   "execution_count": 105,
   "id": "a4557c5b-11c3-4252-a3f1-3760a6f42f2a",
   "metadata": {
    "tags": []
   },
   "outputs": [],
   "source": [
    "def predict(current_predictor, data, rows=500):\n",
    "    split_array = np.array_split(data, int(data.shape[0] / float(rows) + 1))\n",
    "    predictions = ''\n",
    "    for array in split_array:\n",
    "        predictions = ','.join([predictions, current_predictor.predict(array).decode('utf-8')])\n",
    "\n",
    "    return np.fromstring(predictions[1:], sep=',')"
   ]
  },
  {
   "cell_type": "code",
   "execution_count": 106,
   "id": "8b879b99-779b-40e9-b369-bf4b4414c6b6",
   "metadata": {
    "tags": []
   },
   "outputs": [],
   "source": [
    "raw_preds = predict(predictor, x_test)"
   ]
  },
  {
   "cell_type": "code",
   "execution_count": 108,
   "id": "8949a519-a7a8-468d-9050-69c34356f7fc",
   "metadata": {
    "tags": []
   },
   "outputs": [
    {
     "data": {
      "text/plain": [
       "(array([9.99571383e-01, 2.03580726e-06, 5.68369724e-05, ...,\n",
       "        3.15319153e-06, 2.97376596e-06, 5.72184354e-06]),\n",
       " (28481,))"
      ]
     },
     "execution_count": 108,
     "metadata": {},
     "output_type": "execute_result"
    }
   ],
   "source": [
    "raw_preds, raw_preds.shape"
   ]
  },
  {
   "cell_type": "code",
   "execution_count": 109,
   "id": "00b7cecb-1564-4bf7-87b8-7558387b232f",
   "metadata": {
    "tags": []
   },
   "outputs": [],
   "source": [
    "from sklearn.metrics import balanced_accuracy_score, cohen_kappa_score"
   ]
  },
  {
   "cell_type": "code",
   "execution_count": 110,
   "id": "88f32d25-c8e8-4b0b-8a4d-1387150f2d6b",
   "metadata": {
    "tags": []
   },
   "outputs": [],
   "source": [
    "y_preds = np.where(raw_preds > 0.5,1,0)"
   ]
  },
  {
   "cell_type": "code",
   "execution_count": 111,
   "id": "3dbfedf6-a745-4d37-bf20-8e2893f0f03f",
   "metadata": {
    "tags": []
   },
   "outputs": [
    {
     "data": {
      "text/plain": [
       "array([1, 0, 0, ..., 0, 0, 0])"
      ]
     },
     "execution_count": 111,
     "metadata": {},
     "output_type": "execute_result"
    }
   ],
   "source": [
    "y_preds"
   ]
  },
  {
   "cell_type": "code",
   "execution_count": 112,
   "id": "8e2294a6-3073-4a41-ba2a-1d8b62fdf3d1",
   "metadata": {
    "tags": []
   },
   "outputs": [
    {
     "data": {
      "text/plain": [
       "0.9021211611532022"
      ]
     },
     "execution_count": 112,
     "metadata": {},
     "output_type": "execute_result"
    }
   ],
   "source": [
    "balanced_accuracy_score(y_test,y_preds)"
   ]
  },
  {
   "cell_type": "code",
   "execution_count": 113,
   "id": "8fe80020-7b23-412b-8ea6-19839f15ac58",
   "metadata": {
    "tags": []
   },
   "outputs": [
    {
     "data": {
      "text/plain": [
       "0.860255159493083"
      ]
     },
     "execution_count": 113,
     "metadata": {},
     "output_type": "execute_result"
    }
   ],
   "source": [
    "cohen_kappa_score(y_test,y_preds)"
   ]
  },
  {
   "cell_type": "code",
   "execution_count": 114,
   "id": "b3b4aba4-97a5-4eb5-a465-67be9153e89e",
   "metadata": {
    "tags": []
   },
   "outputs": [],
   "source": [
    "import matplotlib.pyplot as plt\n",
    "import seaborn as sns\n",
    "from sklearn.metrics import confusion_matrix"
   ]
  },
  {
   "cell_type": "code",
   "execution_count": 115,
   "id": "e86b067a-ed8c-47c2-b733-1c6f80defa95",
   "metadata": {
    "tags": []
   },
   "outputs": [],
   "source": [
    "def plot_confusion_matrix(y_true,y_predicted):\n",
    "    cm = confusion_matrix(y_true,y_predicted)\n",
    "    cm_norm = cm.astype('float') / cm.sum(axis = 1)[:,np.newaxis]\n",
    "    ax = sns.heatmap(cm_norm,annot = cm,fmt = 'd')\n",
    "    ax.set(xticklabels=[\"non-fraud\", \"fraud\"], yticklabels=[\"non-fraud\", \"fraud\"])\n",
    "    ax.set_ylim([0,2])\n",
    "    plt.title('Confusion Matrix')\n",
    "    plt.ylabel('Real Classes')\n",
    "    plt.xlabel('Predicted Classes')\n",
    "    plt.show()"
   ]
  },
  {
   "cell_type": "code",
   "execution_count": 116,
   "id": "a8e06dd8-6c6d-45b2-99ad-60e5bc539caf",
   "metadata": {
    "tags": []
   },
   "outputs": [
    {
     "data": {
      "image/png": "[encoded data removed]",
      "text/plain": [
       "<Figure size 432x288 with 2 Axes>"
      ]
     },
     "metadata": {},
     "output_type": "display_data"
    }
   ],
   "source": [
    "plot_confusion_matrix(y_test,y_preds)"
   ]
  },
  {
   "cell_type": "code",
   "execution_count": 117,
   "id": "1fa3951a-3d8d-4983-82e2-a7c9c24809e5",
   "metadata": {
    "tags": []
   },
   "outputs": [],
   "source": [
    "from sklearn.metrics import classification_report"
   ]
  },
  {
   "cell_type": "code",
   "execution_count": 118,
   "id": "4e4b6110-e965-4b45-9612-31b4e1dc782a",
   "metadata": {
    "tags": []
   },
   "outputs": [
    {
     "name": "stdout",
     "output_type": "stream",
     "text": [
      "              precision    recall  f1-score   support\n",
      "\n",
      "   non-fraud       1.00      1.00      1.00     28435\n",
      "       fraud       0.93      0.80      0.86        46\n",
      "\n",
      "    accuracy                           1.00     28481\n",
      "   macro avg       0.96      0.90      0.93     28481\n",
      "weighted avg       1.00      1.00      1.00     28481\n",
      "\n"
     ]
    }
   ],
   "source": [
    "print(classification_report(y_test,y_preds,target_names = ['non-fraud','fraud']))"
   ]
  },
  {
   "cell_type": "markdown",
   "id": "c9a4a374-7cb1-44a8-abb5-f13e3a873425",
   "metadata": {},
   "source": [
    "## SMOTE (Synthetic Minority Oversampling)"
   ]
  },
  {
   "cell_type": "code",
   "execution_count": 119,
   "id": "79d4edd7-cd4d-4390-a211-e5825a1ffff6",
   "metadata": {
    "tags": []
   },
   "outputs": [],
   "source": [
    "from imblearn.over_sampling import SMOTE"
   ]
  },
  {
   "cell_type": "code",
   "execution_count": 120,
   "id": "83185b72-2e89-49bd-8fd3-f13634dade35",
   "metadata": {
    "tags": []
   },
   "outputs": [],
   "source": [
    "smote = SMOTE(random_state = 42)"
   ]
  },
  {
   "cell_type": "code",
   "execution_count": 122,
   "id": "ba18615a-1ad0-41bf-8046-06c38d71fc46",
   "metadata": {
    "tags": []
   },
   "outputs": [],
   "source": [
    "x_smote, y_smote = smote.fit_resample(x_train,y_train)"
   ]
  },
  {
   "cell_type": "code",
   "execution_count": 123,
   "id": "4d659c0a-2a7e-4a92-bdbc-af82ffaa35c3",
   "metadata": {
    "tags": []
   },
   "outputs": [
    {
     "data": {
      "text/plain": [
       "((511760, 30), (511760,))"
      ]
     },
     "execution_count": 123,
     "metadata": {},
     "output_type": "execute_result"
    }
   ],
   "source": [
    "x_smote.shape, y_smote.shape"
   ]
  },
  {
   "cell_type": "code",
   "execution_count": 124,
   "id": "2043f003-0819-4dc8-bb26-419884693ba7",
   "metadata": {
    "tags": []
   },
   "outputs": [
    {
     "name": "stdout",
     "output_type": "stream",
     "text": [
      "[(0.0, 255880), (1.0, 255880)]\n"
     ]
    }
   ],
   "source": [
    "from collections import Counter\n",
    "print(sorted(Counter(y_smote).items()))"
   ]
  },
  {
   "cell_type": "code",
   "execution_count": 125,
   "id": "0054cbd8-5972-411b-bc21-dfa3081ae602",
   "metadata": {
    "tags": []
   },
   "outputs": [
    {
     "name": "stderr",
     "output_type": "stream",
     "text": [
      "/usr/local/lib/python3.6/site-packages/boto3/compat.py:88: PythonDeprecationWarning: Boto3 will no longer support Python 3.6 starting May 30, 2022. To continue receiving service updates, bug fixes, and security updates please upgrade to Python 3.7 or later. More information can be found here: https://aws.amazon.com/blogs/developer/python-support-policy-updates-for-aws-sdks-and-tools/\n",
      "  warnings.warn(warning, PythonDeprecationWarning)\n"
     ]
    }
   ],
   "source": [
    "smote_buf = io.BytesIO()\n",
    "\n",
    "sklearn.datasets.dump_svmlight_file(x_smote, y_smote,smote_buf)\n",
    "smote_buf.seek(0);\n",
    "\n",
    "key = 'fraud-dataset-smote'\n",
    "subdir = 'smote'\n",
    "boto3.resource('s3',region_name = 'us-east-1').Bucket('sagemaker-us-east-1-544433795559').Object(os.path.join(prefix, 'train', subdir, key)).upload_fileobj(smote_buf)"
   ]
  },
  {
   "cell_type": "code",
   "execution_count": 126,
   "id": "b125a530-1447-4893-acd8-1b797739d927",
   "metadata": {
    "tags": []
   },
   "outputs": [
    {
     "name": "stdout",
     "output_type": "stream",
     "text": [
      "Uploaded training data location: s3://sagemaker-us-east-1-544433795559/fraud-classifier/train/smote/fraud-dataset-smote\n"
     ]
    }
   ],
   "source": [
    "s3_smote_train_data = 's3://{}/{}/train/{}/{}'.format('sagemaker-us-east-1-544433795559', prefix, subdir, key)\n",
    "print('Uploaded training data location: {}'.format(s3_smote_train_data))"
   ]
  },
  {
   "cell_type": "code",
   "execution_count": 127,
   "id": "a5505348-d807-4ef1-b6c2-940cf2dcf5a3",
   "metadata": {
    "tags": []
   },
   "outputs": [
    {
     "name": "stdout",
     "output_type": "stream",
     "text": [
      "Training artifacts will be uploaded to: s3://sagemaker-us-east-1-544433795559/fraud-classifier/smote-output\n"
     ]
    }
   ],
   "source": [
    "smote_output_location = 's3://{}/{}/smote-output'.format('sagemaker-us-east-1-544433795559', prefix)\n",
    "print('Training artifacts will be uploaded to: {}'.format(smote_output_location))"
   ]
  },
  {
   "cell_type": "code",
   "execution_count": 128,
   "id": "4f16c89f-3aa8-4011-ba7a-27e3f82e7f43",
   "metadata": {
    "tags": []
   },
   "outputs": [
    {
     "data": {
      "text/plain": [
       "23.952494089221073"
      ]
     },
     "execution_count": 128,
     "metadata": {},
     "output_type": "execute_result"
    }
   ],
   "source": [
    "hyperparams.pop(\"scale_pos_weight\", None)"
   ]
  },
  {
   "cell_type": "code",
   "execution_count": 130,
   "id": "e01009de-46d0-40fc-8aec-14501a940869",
   "metadata": {
    "tags": []
   },
   "outputs": [
    {
     "name": "stderr",
     "output_type": "stream",
     "text": [
      "WARNING:sagemaker.estimator:Parameter image_name will be renamed to image_uri in SageMaker Python SDK v2.\n"
     ]
    }
   ],
   "source": [
    "smote_xgb = sagemaker.estimator.Estimator(container,\n",
    "                                        role='arn:aws:iam::544433795559:role/service-role/AmazonSageMaker-ExecutionRole-20230426T180700',\n",
    "                                        hyperparameters=hyperparams,\n",
    "                                        train_instance_count=1, \n",
    "                                        train_instance_type=instance_type,\n",
    "                                        output_path=smote_output_location,\n",
    "                                        sagemaker_session=session)"
   ]
  },
  {
   "cell_type": "code",
   "execution_count": 131,
   "id": "773a4bcf-4a32-4031-8a28-62a133ed7884",
   "metadata": {
    "tags": []
   },
   "outputs": [
    {
     "data": {
      "text/plain": [
       "<sagemaker.estimator.Estimator at 0x7f4234786e48>"
      ]
     },
     "execution_count": 131,
     "metadata": {},
     "output_type": "execute_result"
    }
   ],
   "source": [
    "smote_xgb"
   ]
  },
  {
   "cell_type": "code",
   "execution_count": 132,
   "id": "584d6a6e-0033-47ca-ae2f-10ff1de23a00",
   "metadata": {
    "tags": []
   },
   "outputs": [
    {
     "name": "stderr",
     "output_type": "stream",
     "text": [
      "WARNING:sagemaker:'s3_input' class will be renamed to 'TrainingInput' in SageMaker Python SDK v2.\n"
     ]
    },
    {
     "name": "stdout",
     "output_type": "stream",
     "text": [
      "2023-04-27 02:39:53 Starting - Starting the training job...\n",
      "2023-04-27 02:40:09 Starting - Preparing the instances for training......\n",
      "2023-04-27 02:41:15 Downloading - Downloading input data......\n",
      "2023-04-27 02:41:55 Training - Downloading the training image..\n",
      "2023-04-27 02:42:26 Training - Training image download completed. Training in progress.\u001b[34mINFO:sagemaker-containers:Imported framework sagemaker_xgboost_container.training\u001b[0m\n",
      "\u001b[34mINFO:sagemaker-containers:Failed to parse hyperparameter eval_metric value auc to Json.\u001b[0m\n",
      "\u001b[34mReturning the value itself\u001b[0m\n",
      "\u001b[34mINFO:sagemaker-containers:Failed to parse hyperparameter objective value binary:logistic to Json.\u001b[0m\n",
      "\u001b[34mReturning the value itself\u001b[0m\n",
      "\u001b[34mINFO:sagemaker-containers:No GPUs detected (normal if no gpus installed)\u001b[0m\n",
      "\u001b[34mINFO:sagemaker_xgboost_container.training:Running XGBoost Sagemaker in algorithm mode\u001b[0m\n",
      "\u001b[34m[02:42:33] 511760x30 matrix with 15349834 entries loaded from /opt/ml/input/data/train\u001b[0m\n",
      "\u001b[34mINFO:root:Single node training.\u001b[0m\n",
      "\u001b[34mINFO:root:Train matrix has 511760 rows\u001b[0m\n",
      "\u001b[34m[0]#011train-auc:0.992298\u001b[0m\n",
      "\u001b[34m[1]#011train-auc:0.993169\u001b[0m\n",
      "\u001b[34m[2]#011train-auc:0.993937\u001b[0m\n",
      "\u001b[34m[3]#011train-auc:0.994573\u001b[0m\n",
      "\u001b[34m[4]#011train-auc:0.994995\u001b[0m\n",
      "\u001b[34m[5]#011train-auc:0.996753\u001b[0m\n",
      "\u001b[34m[6]#011train-auc:0.997344\u001b[0m\n",
      "\u001b[34m[7]#011train-auc:0.997648\u001b[0m\n",
      "\u001b[34m[8]#011train-auc:0.998125\u001b[0m\n",
      "\u001b[34m[9]#011train-auc:0.998441\u001b[0m\n",
      "\u001b[34m[10]#011train-auc:0.998601\u001b[0m\n",
      "\u001b[34m[11]#011train-auc:0.99872\u001b[0m\n",
      "\u001b[34m[12]#011train-auc:0.998829\u001b[0m\n",
      "\u001b[34m[13]#011train-auc:0.998929\u001b[0m\n",
      "\u001b[34m[14]#011train-auc:0.999021\u001b[0m\n",
      "\u001b[34m[15]#011train-auc:0.999171\u001b[0m\n",
      "\u001b[34m[16]#011train-auc:0.999251\u001b[0m\n",
      "\u001b[34m[17]#011train-auc:0.999292\u001b[0m\n",
      "\u001b[34m[18]#011train-auc:0.99935\u001b[0m\n",
      "\u001b[34m[19]#011train-auc:0.999379\u001b[0m\n",
      "\u001b[34m[20]#011train-auc:0.999416\u001b[0m\n",
      "\u001b[34m[21]#011train-auc:0.999449\u001b[0m\n",
      "\u001b[34m[22]#011train-auc:0.999495\u001b[0m\n",
      "\u001b[34m[23]#011train-auc:0.999527\u001b[0m\n",
      "\u001b[34m[24]#011train-auc:0.999581\u001b[0m\n",
      "\u001b[34m[25]#011train-auc:0.999635\u001b[0m\n",
      "\u001b[34m[26]#011train-auc:0.999668\u001b[0m\n",
      "\u001b[34m[27]#011train-auc:0.999691\u001b[0m\n",
      "\u001b[34m[28]#011train-auc:0.999709\u001b[0m\n",
      "\u001b[34m[29]#011train-auc:0.999728\u001b[0m\n",
      "\u001b[34m[30]#011train-auc:0.999756\u001b[0m\n",
      "\u001b[34m[31]#011train-auc:0.999767\u001b[0m\n",
      "\u001b[34m[32]#011train-auc:0.999795\u001b[0m\n",
      "\u001b[34m[33]#011train-auc:0.999809\u001b[0m\n",
      "\u001b[34m[34]#011train-auc:0.999821\u001b[0m\n",
      "\u001b[34m[35]#011train-auc:0.99983\u001b[0m\n",
      "\u001b[34m[36]#011train-auc:0.999849\u001b[0m\n",
      "\u001b[34m[37]#011train-auc:0.999884\u001b[0m\n",
      "\u001b[34m[38]#011train-auc:0.999895\u001b[0m\n",
      "\u001b[34m[39]#011train-auc:0.999901\u001b[0m\n",
      "\u001b[34m[40]#011train-auc:0.999906\u001b[0m\n",
      "\u001b[34m[41]#011train-auc:0.999909\u001b[0m\n",
      "\u001b[34m[42]#011train-auc:0.99991\u001b[0m\n",
      "\u001b[34m[43]#011train-auc:0.999916\u001b[0m\n",
      "\u001b[34m[44]#011train-auc:0.999924\u001b[0m\n",
      "\u001b[34m[45]#011train-auc:0.999926\u001b[0m\n",
      "\u001b[34m[46]#011train-auc:0.999928\u001b[0m\n",
      "\u001b[34m[47]#011train-auc:0.99993\u001b[0m\n",
      "\u001b[34m[48]#011train-auc:0.999936\u001b[0m\n",
      "\u001b[34m[49]#011train-auc:0.999937\u001b[0m\n",
      "\u001b[34m[50]#011train-auc:0.999939\u001b[0m\n",
      "\u001b[34m[51]#011train-auc:0.999943\u001b[0m\n",
      "\u001b[34m[52]#011train-auc:0.999945\u001b[0m\n",
      "\u001b[34m[53]#011train-auc:0.999946\u001b[0m\n",
      "\u001b[34m[54]#011train-auc:0.999948\u001b[0m\n",
      "\u001b[34m[55]#011train-auc:0.999953\u001b[0m\n",
      "\u001b[34m[56]#011train-auc:0.999955\u001b[0m\n",
      "\u001b[34m[57]#011train-auc:0.999956\u001b[0m\n",
      "\u001b[34m[58]#011train-auc:0.999959\u001b[0m\n",
      "\u001b[34m[59]#011train-auc:0.99996\u001b[0m\n",
      "\u001b[34m[60]#011train-auc:0.99996\u001b[0m\n",
      "\u001b[34m[61]#011train-auc:0.999962\u001b[0m\n",
      "\u001b[34m[62]#011train-auc:0.999966\u001b[0m\n",
      "\u001b[34m[63]#011train-auc:0.999967\u001b[0m\n",
      "\u001b[34m[64]#011train-auc:0.999971\u001b[0m\n",
      "\u001b[34m[65]#011train-auc:0.999971\u001b[0m\n",
      "\u001b[34m[66]#011train-auc:0.999973\u001b[0m\n",
      "\u001b[34m[67]#011train-auc:0.999974\u001b[0m\n",
      "\u001b[34m[68]#011train-auc:0.999976\u001b[0m\n",
      "\u001b[34m[69]#011train-auc:0.999977\u001b[0m\n",
      "\u001b[34m[70]#011train-auc:0.999977\u001b[0m\n",
      "\u001b[34m[71]#011train-auc:0.999979\u001b[0m\n",
      "\u001b[34m[72]#011train-auc:0.999981\u001b[0m\n",
      "\u001b[34m[73]#011train-auc:0.999982\u001b[0m\n",
      "\u001b[34m[74]#011train-auc:0.999983\u001b[0m\n",
      "\u001b[34m[75]#011train-auc:0.999984\u001b[0m\n",
      "\u001b[34m[76]#011train-auc:0.999985\u001b[0m\n",
      "\u001b[34m[77]#011train-auc:0.999985\u001b[0m\n",
      "\u001b[34m[78]#011train-auc:0.999985\u001b[0m\n",
      "\u001b[34m[79]#011train-auc:0.999985\u001b[0m\n",
      "\u001b[34m[80]#011train-auc:0.999986\u001b[0m\n",
      "\u001b[34m[81]#011train-auc:0.999988\u001b[0m\n",
      "\u001b[34m[82]#011train-auc:0.999988\u001b[0m\n",
      "\u001b[34m[83]#011train-auc:0.999989\u001b[0m\n",
      "\u001b[34m[84]#011train-auc:0.999989\u001b[0m\n",
      "\u001b[34m[85]#011train-auc:0.999989\u001b[0m\n",
      "\u001b[34m[86]#011train-auc:0.99999\u001b[0m\n",
      "\u001b[34m[87]#011train-auc:0.99999\u001b[0m\n",
      "\u001b[34m[88]#011train-auc:0.999991\u001b[0m\n",
      "\u001b[34m[89]#011train-auc:0.999992\u001b[0m\n",
      "\u001b[34m[90]#011train-auc:0.999992\u001b[0m\n",
      "\u001b[34m[91]#011train-auc:0.999992\u001b[0m\n",
      "\u001b[34m[92]#011train-auc:0.999992\u001b[0m\n",
      "\u001b[34m[93]#011train-auc:0.999992\u001b[0m\n",
      "\u001b[34m[94]#011train-auc:0.999993\u001b[0m\n",
      "\u001b[34m[95]#011train-auc:0.999993\u001b[0m\n",
      "\u001b[34m[96]#011train-auc:0.999993\u001b[0m\n",
      "\u001b[34m[97]#011train-auc:0.999994\u001b[0m\n",
      "\u001b[34m[98]#011train-auc:0.999995\u001b[0m\n",
      "\u001b[34m[99]#011train-auc:0.999995\u001b[0m\n",
      "\n",
      "2023-04-27 02:45:48 Uploading - Uploading generated training model\n",
      "2023-04-27 02:45:48 Completed - Training job completed\n",
      "Training seconds: 273\n",
      "Billable seconds: 273\n"
     ]
    }
   ],
   "source": [
    "smote_xgb.fit({'train': s3_smote_train_data})"
   ]
  },
  {
   "cell_type": "code",
   "execution_count": 133,
   "id": "235df312-1f95-4914-ad64-9324ea56d79c",
   "metadata": {
    "tags": []
   },
   "outputs": [
    {
     "name": "stderr",
     "output_type": "stream",
     "text": [
      "WARNING:sagemaker:Parameter image will be renamed to image_uri in SageMaker Python SDK v2.\n"
     ]
    },
    {
     "name": "stdout",
     "output_type": "stream",
     "text": [
      "-----!"
     ]
    }
   ],
   "source": [
    "smote_predictor = smote_xgb.deploy(initial_instance_count=1,\n",
    "                       model_name=\"{}-xgb-smote\".format('vpendpoint'),\n",
    "                       endpoint_name=\"{}-xgb-smote\".format('vpendpoint'),\n",
    "                       instance_type=instance_type)\n",
    "\n",
    "# Specify input and output formats.\n",
    "smote_predictor.content_type = 'text/csv'\n",
    "smote_predictor.serializer = csv_serializer\n",
    "smote_predictor.deserializer = None"
   ]
  },
  {
   "cell_type": "code",
   "execution_count": 135,
   "id": "3db88b3c-4c9c-4d50-90ad-d9d55c32dc0a",
   "metadata": {
    "tags": []
   },
   "outputs": [],
   "source": [
    "smote_raw_preds = predict(smote_predictor, x_test)\n",
    "smote_preds = np.where(smote_raw_preds > 0.5, 1, 0)"
   ]
  },
  {
   "cell_type": "code",
   "execution_count": 136,
   "id": "abe352c4-9598-4fc9-8c10-e826f502a33f",
   "metadata": {
    "tags": []
   },
   "outputs": [
    {
     "data": {
      "text/plain": [
       "0.9125511272849596"
      ]
     },
     "execution_count": 136,
     "metadata": {},
     "output_type": "execute_result"
    }
   ],
   "source": [
    "balanced_accuracy_score(y_test,smote_preds)"
   ]
  },
  {
   "cell_type": "code",
   "execution_count": 138,
   "id": "92d60098-d1a7-494d-b6e5-44426614b78d",
   "metadata": {
    "tags": []
   },
   "outputs": [
    {
     "data": {
      "text/plain": [
       "0.677958414473271"
      ]
     },
     "execution_count": 138,
     "metadata": {},
     "output_type": "execute_result"
    }
   ],
   "source": [
    "cohen_kappa_score(y_test,smote_preds)"
   ]
  },
  {
   "cell_type": "code",
   "execution_count": 139,
   "id": "8742591c-142b-421c-9dc1-b12cbf1f1961",
   "metadata": {
    "tags": []
   },
   "outputs": [
    {
     "data": {
      "image/png": "[encoded data removed]",
      "text/plain": [
       "<Figure size 432x288 with 2 Axes>"
      ]
     },
     "metadata": {},
     "output_type": "display_data"
    }
   ],
   "source": [
    "plot_confusion_matrix(y_test,smote_preds)"
   ]
  },
  {
   "cell_type": "code",
   "execution_count": 142,
   "id": "18547191-5eb6-4dbc-975e-a3b3019645dd",
   "metadata": {
    "tags": []
   },
   "outputs": [
    {
     "name": "stdout",
     "output_type": "stream",
     "text": [
      "              precision    recall  f1-score   support\n",
      "\n",
      "   non-fraud       1.00      1.00      1.00     28435\n",
      "       fraud       0.58      0.83      0.68        46\n",
      "\n",
      "    accuracy                           1.00     28481\n",
      "   macro avg       0.79      0.91      0.84     28481\n",
      "weighted avg       1.00      1.00      1.00     28481\n",
      "\n"
     ]
    }
   ],
   "source": [
    "print(classification_report(y_test, smote_preds, target_names=['non-fraud', 'fraud']))"
   ]
  },
  {
   "cell_type": "code",
   "execution_count": 144,
   "id": "0098da31-e8ca-4b9a-9905-da3de4c18f13",
   "metadata": {
    "tags": []
   },
   "outputs": [
    {
     "name": "stdout",
     "output_type": "stream",
     "text": [
      "Threshold: 0.1\n",
      "Balanced accuracy = 0.922\n",
      "Cohen's Kappa = 0.390\n",
      "\n",
      "Threshold: 0.2\n",
      "Balanced accuracy = 0.923\n",
      "Cohen's Kappa = 0.533\n",
      "\n",
      "Threshold: 0.3\n",
      "Balanced accuracy = 0.923\n",
      "Cohen's Kappa = 0.604\n",
      "\n",
      "Threshold: 0.4\n",
      "Balanced accuracy = 0.912\n",
      "Cohen's Kappa = 0.660\n",
      "\n",
      "Threshold: 0.5\n",
      "Balanced accuracy = 0.913\n",
      "Cohen's Kappa = 0.678\n",
      "\n",
      "Threshold: 0.6\n",
      "Balanced accuracy = 0.913\n",
      "Cohen's Kappa = 0.745\n",
      "\n",
      "Threshold: 0.7\n",
      "Balanced accuracy = 0.902\n",
      "Cohen's Kappa = 0.779\n",
      "\n",
      "Threshold: 0.8\n",
      "Balanced accuracy = 0.902\n",
      "Cohen's Kappa = 0.813\n",
      "\n",
      "Threshold: 0.9\n",
      "Balanced accuracy = 0.902\n",
      "Cohen's Kappa = 0.850\n",
      "\n"
     ]
    }
   ],
   "source": [
    "for thres in np.linspace(0.1, 0.9, num=9):\n",
    "    smote_thres_preds = np.where(smote_raw_preds > thres, 1, 0)\n",
    "    print(\"Threshold: {:.1f}\".format(thres))\n",
    "    print(\"Balanced accuracy = {:.3f}\".format(balanced_accuracy_score(y_test, smote_thres_preds)))\n",
    "    print(\"Cohen's Kappa = {:.3f}\\n\".format(cohen_kappa_score(y_test, smote_thres_preds)))"
   ]
  },
  {
   "cell_type": "code",
   "execution_count": null,
   "id": "f2b43707-834b-42ba-8a29-6b5b9494f4c2",
   "metadata": {},
   "outputs": [],
   "source": []
  }
 ],
 "metadata": {
  "availableInstances": [
   {
    "_defaultOrder": 0,
    "_isFastLaunch": true,
    "category": "General purpose",
    "gpuNum": 0,
    "hideHardwareSpecs": false,
    "memoryGiB": 4,
    "name": "ml.t3.medium",
    "vcpuNum": 2
   },
   {
    "_defaultOrder": 1,
    "_isFastLaunch": false,
    "category": "General purpose",
    "gpuNum": 0,
    "hideHardwareSpecs": false,
    "memoryGiB": 8,
    "name": "ml.t3.large",
    "vcpuNum": 2
   },
   {
    "_defaultOrder": 2,
    "_isFastLaunch": false,
    "category": "General purpose",
    "gpuNum": 0,
    "hideHardwareSpecs": false,
    "memoryGiB": 16,
    "name": "ml.t3.xlarge",
    "vcpuNum": 4
   },
   {
    "_defaultOrder": 3,
    "_isFastLaunch": false,
    "category": "General purpose",
    "gpuNum": 0,
    "hideHardwareSpecs": false,
    "memoryGiB": 32,
    "name": "ml.t3.2xlarge",
    "vcpuNum": 8
   },
   {
    "_defaultOrder": 4,
    "_isFastLaunch": true,
    "category": "General purpose",
    "gpuNum": 0,
    "hideHardwareSpecs": false,
    "memoryGiB": 8,
    "name": "ml.m5.large",
    "vcpuNum": 2
   },
   {
    "_defaultOrder": 5,
    "_isFastLaunch": false,
    "category": "General purpose",
    "gpuNum": 0,
    "hideHardwareSpecs": false,
    "memoryGiB": 16,
    "name": "ml.m5.xlarge",
    "vcpuNum": 4
   },
   {
    "_defaultOrder": 6,
    "_isFastLaunch": false,
    "category": "General purpose",
    "gpuNum": 0,
    "hideHardwareSpecs": false,
    "memoryGiB": 32,
    "name": "ml.m5.2xlarge",
    "vcpuNum": 8
   },
   {
    "_defaultOrder": 7,
    "_isFastLaunch": false,
    "category": "General purpose",
    "gpuNum": 0,
    "hideHardwareSpecs": false,
    "memoryGiB": 64,
    "name": "ml.m5.4xlarge",
    "vcpuNum": 16
   },
   {
    "_defaultOrder": 8,
    "_isFastLaunch": false,
    "category": "General purpose",
    "gpuNum": 0,
    "hideHardwareSpecs": false,
    "memoryGiB": 128,
    "name": "ml.m5.8xlarge",
    "vcpuNum": 32
   },
   {
    "_defaultOrder": 9,
    "_isFastLaunch": false,
    "category": "General purpose",
    "gpuNum": 0,
    "hideHardwareSpecs": false,
    "memoryGiB": 192,
    "name": "ml.m5.12xlarge",
    "vcpuNum": 48
   },
   {
    "_defaultOrder": 10,
    "_isFastLaunch": false,
    "category": "General purpose",
    "gpuNum": 0,
    "hideHardwareSpecs": false,
    "memoryGiB": 256,
    "name": "ml.m5.16xlarge",
    "vcpuNum": 64
   },
   {
    "_defaultOrder": 11,
    "_isFastLaunch": false,
    "category": "General purpose",
    "gpuNum": 0,
    "hideHardwareSpecs": false,
    "memoryGiB": 384,
    "name": "ml.m5.24xlarge",
    "vcpuNum": 96
   },
   {
    "_defaultOrder": 12,
    "_isFastLaunch": false,
    "category": "General purpose",
    "gpuNum": 0,
    "hideHardwareSpecs": false,
    "memoryGiB": 8,
    "name": "ml.m5d.large",
    "vcpuNum": 2
   },
   {
    "_defaultOrder": 13,
    "_isFastLaunch": false,
    "category": "General purpose",
    "gpuNum": 0,
    "hideHardwareSpecs": false,
    "memoryGiB": 16,
    "name": "ml.m5d.xlarge",
    "vcpuNum": 4
   },
   {
    "_defaultOrder": 14,
    "_isFastLaunch": false,
    "category": "General purpose",
    "gpuNum": 0,
    "hideHardwareSpecs": false,
    "memoryGiB": 32,
    "name": "ml.m5d.2xlarge",
    "vcpuNum": 8
   },
   {
    "_defaultOrder": 15,
    "_isFastLaunch": false,
    "category": "General purpose",
    "gpuNum": 0,
    "hideHardwareSpecs": false,
    "memoryGiB": 64,
    "name": "ml.m5d.4xlarge",
    "vcpuNum": 16
   },
   {
    "_defaultOrder": 16,
    "_isFastLaunch": false,
    "category": "General purpose",
    "gpuNum": 0,
    "hideHardwareSpecs": false,
    "memoryGiB": 128,
    "name": "ml.m5d.8xlarge",
    "vcpuNum": 32
   },
   {
    "_defaultOrder": 17,
    "_isFastLaunch": false,
    "category": "General purpose",
    "gpuNum": 0,
    "hideHardwareSpecs": false,
    "memoryGiB": 192,
    "name": "ml.m5d.12xlarge",
    "vcpuNum": 48
   },
   {
    "_defaultOrder": 18,
    "_isFastLaunch": false,
    "category": "General purpose",
    "gpuNum": 0,
    "hideHardwareSpecs": false,
    "memoryGiB": 256,
    "name": "ml.m5d.16xlarge",
    "vcpuNum": 64
   },
   {
    "_defaultOrder": 19,
    "_isFastLaunch": false,
    "category": "General purpose",
    "gpuNum": 0,
    "hideHardwareSpecs": false,
    "memoryGiB": 384,
    "name": "ml.m5d.24xlarge",
    "vcpuNum": 96
   },
   {
    "_defaultOrder": 20,
    "_isFastLaunch": false,
    "category": "General purpose",
    "gpuNum": 0,
    "hideHardwareSpecs": true,
    "memoryGiB": 0,
    "name": "ml.geospatial.interactive",
    "supportedImageNames": [
     "sagemaker-geospatial-v1-0"
    ],
    "vcpuNum": 0
   },
   {
    "_defaultOrder": 21,
    "_isFastLaunch": true,
    "category": "Compute optimized",
    "gpuNum": 0,
    "hideHardwareSpecs": false,
    "memoryGiB": 4,
    "name": "ml.c5.large",
    "vcpuNum": 2
   },
   {
    "_defaultOrder": 22,
    "_isFastLaunch": false,
    "category": "Compute optimized",
    "gpuNum": 0,
    "hideHardwareSpecs": false,
    "memoryGiB": 8,
    "name": "ml.c5.xlarge",
    "vcpuNum": 4
   },
   {
    "_defaultOrder": 23,
    "_isFastLaunch": false,
    "category": "Compute optimized",
    "gpuNum": 0,
    "hideHardwareSpecs": false,
    "memoryGiB": 16,
    "name": "ml.c5.2xlarge",
    "vcpuNum": 8
   },
   {
    "_defaultOrder": 24,
    "_isFastLaunch": false,
    "category": "Compute optimized",
    "gpuNum": 0,
    "hideHardwareSpecs": false,
    "memoryGiB": 32,
    "name": "ml.c5.4xlarge",
    "vcpuNum": 16
   },
   {
    "_defaultOrder": 25,
    "_isFastLaunch": false,
    "category": "Compute optimized",
    "gpuNum": 0,
    "hideHardwareSpecs": false,
    "memoryGiB": 72,
    "name": "ml.c5.9xlarge",
    "vcpuNum": 36
   },
   {
    "_defaultOrder": 26,
    "_isFastLaunch": false,
    "category": "Compute optimized",
    "gpuNum": 0,
    "hideHardwareSpecs": false,
    "memoryGiB": 96,
    "name": "ml.c5.12xlarge",
    "vcpuNum": 48
   },
   {
    "_defaultOrder": 27,
    "_isFastLaunch": false,
    "category": "Compute optimized",
    "gpuNum": 0,
    "hideHardwareSpecs": false,
    "memoryGiB": 144,
    "name": "ml.c5.18xlarge",
    "vcpuNum": 72
   },
   {
    "_defaultOrder": 28,
    "_isFastLaunch": false,
    "category": "Compute optimized",
    "gpuNum": 0,
    "hideHardwareSpecs": false,
    "memoryGiB": 192,
    "name": "ml.c5.24xlarge",
    "vcpuNum": 96
   },
   {
    "_defaultOrder": 29,
    "_isFastLaunch": true,
    "category": "Accelerated computing",
    "gpuNum": 1,
    "hideHardwareSpecs": false,
    "memoryGiB": 16,
    "name": "ml.g4dn.xlarge",
    "vcpuNum": 4
   },
   {
    "_defaultOrder": 30,
    "_isFastLaunch": false,
    "category": "Accelerated computing",
    "gpuNum": 1,
    "hideHardwareSpecs": false,
    "memoryGiB": 32,
    "name": "ml.g4dn.2xlarge",
    "vcpuNum": 8
   },
   {
    "_defaultOrder": 31,
    "_isFastLaunch": false,
    "category": "Accelerated computing",
    "gpuNum": 1,
    "hideHardwareSpecs": false,
    "memoryGiB": 64,
    "name": "ml.g4dn.4xlarge",
    "vcpuNum": 16
   },
   {
    "_defaultOrder": 32,
    "_isFastLaunch": false,
    "category": "Accelerated computing",
    "gpuNum": 1,
    "hideHardwareSpecs": false,
    "memoryGiB": 128,
    "name": "ml.g4dn.8xlarge",
    "vcpuNum": 32
   },
   {
    "_defaultOrder": 33,
    "_isFastLaunch": false,
    "category": "Accelerated computing",
    "gpuNum": 4,
    "hideHardwareSpecs": false,
    "memoryGiB": 192,
    "name": "ml.g4dn.12xlarge",
    "vcpuNum": 48
   },
   {
    "_defaultOrder": 34,
    "_isFastLaunch": false,
    "category": "Accelerated computing",
    "gpuNum": 1,
    "hideHardwareSpecs": false,
    "memoryGiB": 256,
    "name": "ml.g4dn.16xlarge",
    "vcpuNum": 64
   },
   {
    "_defaultOrder": 35,
    "_isFastLaunch": false,
    "category": "Accelerated computing",
    "gpuNum": 1,
    "hideHardwareSpecs": false,
    "memoryGiB": 61,
    "name": "ml.p3.2xlarge",
    "vcpuNum": 8
   },
   {
    "_defaultOrder": 36,
    "_isFastLaunch": false,
    "category": "Accelerated computing",
    "gpuNum": 4,
    "hideHardwareSpecs": false,
    "memoryGiB": 244,
    "name": "ml.p3.8xlarge",
    "vcpuNum": 32
   },
   {
    "_defaultOrder": 37,
    "_isFastLaunch": false,
    "category": "Accelerated computing",
    "gpuNum": 8,
    "hideHardwareSpecs": false,
    "memoryGiB": 488,
    "name": "ml.p3.16xlarge",
    "vcpuNum": 64
   },
   {
    "_defaultOrder": 38,
    "_isFastLaunch": false,
    "category": "Accelerated computing",
    "gpuNum": 8,
    "hideHardwareSpecs": false,
    "memoryGiB": 768,
    "name": "ml.p3dn.24xlarge",
    "vcpuNum": 96
   },
   {
    "_defaultOrder": 39,
    "_isFastLaunch": false,
    "category": "Memory Optimized",
    "gpuNum": 0,
    "hideHardwareSpecs": false,
    "memoryGiB": 16,
    "name": "ml.r5.large",
    "vcpuNum": 2
   },
   {
    "_defaultOrder": 40,
    "_isFastLaunch": false,
    "category": "Memory Optimized",
    "gpuNum": 0,
    "hideHardwareSpecs": false,
    "memoryGiB": 32,
    "name": "ml.r5.xlarge",
    "vcpuNum": 4
   },
   {
    "_defaultOrder": 41,
    "_isFastLaunch": false,
    "category": "Memory Optimized",
    "gpuNum": 0,
    "hideHardwareSpecs": false,
    "memoryGiB": 64,
    "name": "ml.r5.2xlarge",
    "vcpuNum": 8
   },
   {
    "_defaultOrder": 42,
    "_isFastLaunch": false,
    "category": "Memory Optimized",
    "gpuNum": 0,
    "hideHardwareSpecs": false,
    "memoryGiB": 128,
    "name": "ml.r5.4xlarge",
    "vcpuNum": 16
   },
   {
    "_defaultOrder": 43,
    "_isFastLaunch": false,
    "category": "Memory Optimized",
    "gpuNum": 0,
    "hideHardwareSpecs": false,
    "memoryGiB": 256,
    "name": "ml.r5.8xlarge",
    "vcpuNum": 32
   },
   {
    "_defaultOrder": 44,
    "_isFastLaunch": false,
    "category": "Memory Optimized",
    "gpuNum": 0,
    "hideHardwareSpecs": false,
    "memoryGiB": 384,
    "name": "ml.r5.12xlarge",
    "vcpuNum": 48
   },
   {
    "_defaultOrder": 45,
    "_isFastLaunch": false,
    "category": "Memory Optimized",
    "gpuNum": 0,
    "hideHardwareSpecs": false,
    "memoryGiB": 512,
    "name": "ml.r5.16xlarge",
    "vcpuNum": 64
   },
   {
    "_defaultOrder": 46,
    "_isFastLaunch": false,
    "category": "Memory Optimized",
    "gpuNum": 0,
    "hideHardwareSpecs": false,
    "memoryGiB": 768,
    "name": "ml.r5.24xlarge",
    "vcpuNum": 96
   },
   {
    "_defaultOrder": 47,
    "_isFastLaunch": false,
    "category": "Accelerated computing",
    "gpuNum": 1,
    "hideHardwareSpecs": false,
    "memoryGiB": 16,
    "name": "ml.g5.xlarge",
    "vcpuNum": 4
   },
   {
    "_defaultOrder": 48,
    "_isFastLaunch": false,
    "category": "Accelerated computing",
    "gpuNum": 1,
    "hideHardwareSpecs": false,
    "memoryGiB": 32,
    "name": "ml.g5.2xlarge",
    "vcpuNum": 8
   },
   {
    "_defaultOrder": 49,
    "_isFastLaunch": false,
    "category": "Accelerated computing",
    "gpuNum": 1,
    "hideHardwareSpecs": false,
    "memoryGiB": 64,
    "name": "ml.g5.4xlarge",
    "vcpuNum": 16
   },
   {
    "_defaultOrder": 50,
    "_isFastLaunch": false,
    "category": "Accelerated computing",
    "gpuNum": 1,
    "hideHardwareSpecs": false,
    "memoryGiB": 128,
    "name": "ml.g5.8xlarge",
    "vcpuNum": 32
   },
   {
    "_defaultOrder": 51,
    "_isFastLaunch": false,
    "category": "Accelerated computing",
    "gpuNum": 1,
    "hideHardwareSpecs": false,
    "memoryGiB": 256,
    "name": "ml.g5.16xlarge",
    "vcpuNum": 64
   },
   {
    "_defaultOrder": 52,
    "_isFastLaunch": false,
    "category": "Accelerated computing",
    "gpuNum": 4,
    "hideHardwareSpecs": false,
    "memoryGiB": 192,
    "name": "ml.g5.12xlarge",
    "vcpuNum": 48
   },
   {
    "_defaultOrder": 53,
    "_isFastLaunch": false,
    "category": "Accelerated computing",
    "gpuNum": 4,
    "hideHardwareSpecs": false,
    "memoryGiB": 384,
    "name": "ml.g5.24xlarge",
    "vcpuNum": 96
   },
   {
    "_defaultOrder": 54,
    "_isFastLaunch": false,
    "category": "Accelerated computing",
    "gpuNum": 8,
    "hideHardwareSpecs": false,
    "memoryGiB": 768,
    "name": "ml.g5.48xlarge",
    "vcpuNum": 192
   }
  ],
  "instance_type": "ml.t3.medium",
  "kernelspec": {
   "display_name": "Python 3 (Base Python)",
   "language": "python",
   "name": "python3__SAGEMAKER_INTERNAL__arn:aws:sagemaker:us-east-1:081325390199:image/python-3.6"
  },
  "language_info": {
   "codemirror_mode": {
    "name": "ipython",
    "version": 3
   },
   "file_extension": ".py",
   "mimetype": "text/x-python",
   "name": "python",
   "nbconvert_exporter": "python",
   "pygments_lexer": "ipython3",
   "version": "3.6.13"
  }
 },
 "nbformat": 4,
 "nbformat_minor": 5
}
